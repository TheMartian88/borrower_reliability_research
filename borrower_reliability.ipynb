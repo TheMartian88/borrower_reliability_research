{
 "cells": [
  {
   "cell_type": "markdown",
   "id": "27339a20-8d2a-4c7f-9025-3dd4a80c80a2",
   "metadata": {},
   "source": [
    "# Исследование надежности заемщиков. <a id='intro'></a>"
   ]
  },
  {
   "cell_type": "markdown",
   "id": "25899e24",
   "metadata": {
    "toc": true
   },
   "source": [
    "<h1>Cодержание<span class=\"tocSkip\"></span></h1>\n",
    "<div class=\"toc\"><ul class=\"toc-item\"><li><span><a href=\"#Описание\" data-toc-modified-id=\"Описание-1\"><span class=\"toc-item-num\">1&nbsp;&nbsp;</span>Описание</a></span></li><li><span><a href=\"#Обзор-данных\" data-toc-modified-id=\"Обзор-данных-2\"><span class=\"toc-item-num\">2&nbsp;&nbsp;</span>Обзор данных</a></span></li><li><span><a href=\"#Предобработка-данных\" data-toc-modified-id=\"Предобработка-данных-3\"><span class=\"toc-item-num\">3&nbsp;&nbsp;</span>Предобработка данных</a></span><ul class=\"toc-item\"><li><span><a href=\"#Заполнение-пропусков\" data-toc-modified-id=\"Заполнение-пропусков-3.1\"><span class=\"toc-item-num\">3.1&nbsp;&nbsp;</span>Заполнение пропусков</a></span></li><li><span><a href=\"#Проверка-данных-на-аномалии-и-исправления.\" data-toc-modified-id=\"Проверка-данных-на-аномалии-и-исправления.-3.2\"><span class=\"toc-item-num\">3.2&nbsp;&nbsp;</span>Проверка данных на аномалии и исправления.</a></span></li><li><span><a href=\"#Удаление-дубликатов.\" data-toc-modified-id=\"Удаление-дубликатов.-3.3\"><span class=\"toc-item-num\">3.3&nbsp;&nbsp;</span>Удаление дубликатов.</a></span></li><li><span><a href=\"#Изменение-типов-данных.\" data-toc-modified-id=\"Изменение-типов-данных.-3.4\"><span class=\"toc-item-num\">3.4&nbsp;&nbsp;</span>Изменение типов данных.</a></span></li></ul></li><li><span><a href=\"#Формирование-дополнительных-датафреймов-словарей,-декомпозиция-исходного-датафрейма.\" data-toc-modified-id=\"Формирование-дополнительных-датафреймов-словарей,-декомпозиция-исходного-датафрейма.-4\"><span class=\"toc-item-num\">4&nbsp;&nbsp;</span>Формирование дополнительных датафреймов словарей, декомпозиция исходного датафрейма.</a></span></li><li><span><a href=\"#Категоризация-дохода.\" data-toc-modified-id=\"Категоризация-дохода.-5\"><span class=\"toc-item-num\">5&nbsp;&nbsp;</span>Категоризация дохода.</a></span></li><li><span><a href=\"#Категоризация-целей-кредита.\" data-toc-modified-id=\"Категоризация-целей-кредита.-6\"><span class=\"toc-item-num\">6&nbsp;&nbsp;</span>Категоризация целей кредита.</a></span></li><li><span><a href=\"#Категоризация-по-количеству-детей\" data-toc-modified-id=\"Категоризация-по-количеству-детей-7\"><span class=\"toc-item-num\">7&nbsp;&nbsp;</span>Категоризация по количеству детей</a></span></li><li><span><a href=\"#Ответы-на-вопросы.\" data-toc-modified-id=\"Ответы-на-вопросы.-8\"><span class=\"toc-item-num\">8&nbsp;&nbsp;</span>Ответы на вопросы.</a></span><ul class=\"toc-item\"><li><span><a href=\"#Вопрос-1:-Есть-ли-зависимость-между-количеством-детей-и-возвратом-кредита-в-срок?\" data-toc-modified-id=\"Вопрос-1:-Есть-ли-зависимость-между-количеством-детей-и-возвратом-кредита-в-срок?-8.1\"><span class=\"toc-item-num\">8.1&nbsp;&nbsp;</span>Вопрос 1: Есть ли зависимость между количеством детей и возвратом кредита в срок?</a></span></li><li><span><a href=\"#Вывод-1:\" data-toc-modified-id=\"Вывод-1:-8.2\"><span class=\"toc-item-num\">8.2&nbsp;&nbsp;</span>Вывод 1:</a></span></li><li><span><a href=\"#Вопрос-2:-Есть-ли-зависимость-между-семейным-положением-и-возвратом-кредита-в-срок?\" data-toc-modified-id=\"Вопрос-2:-Есть-ли-зависимость-между-семейным-положением-и-возвратом-кредита-в-срок?-8.3\"><span class=\"toc-item-num\">8.3&nbsp;&nbsp;</span>Вопрос 2: Есть ли зависимость между семейным положением и возвратом кредита в срок?</a></span></li><li><span><a href=\"#Вывод-2:\" data-toc-modified-id=\"Вывод-2:-8.4\"><span class=\"toc-item-num\">8.4&nbsp;&nbsp;</span>Вывод 2:</a></span></li><li><span><a href=\"#Вопрос-3:-Есть-ли-зависимость-между-уровнем-дохода-и-возвратом-кредита-в-срок?\" data-toc-modified-id=\"Вопрос-3:-Есть-ли-зависимость-между-уровнем-дохода-и-возвратом-кредита-в-срок?-8.5\"><span class=\"toc-item-num\">8.5&nbsp;&nbsp;</span>Вопрос 3: Есть ли зависимость между уровнем дохода и возвратом кредита в срок?</a></span></li><li><span><a href=\"#Вывод-3:\" data-toc-modified-id=\"Вывод-3:-8.6\"><span class=\"toc-item-num\">8.6&nbsp;&nbsp;</span>Вывод 3:</a></span></li><li><span><a href=\"#Вопрос-4:-Как-разные-цели-кредита-влияют-на-его-возврат-в-срок?\" data-toc-modified-id=\"Вопрос-4:-Как-разные-цели-кредита-влияют-на-его-возврат-в-срок?-8.7\"><span class=\"toc-item-num\">8.7&nbsp;&nbsp;</span>Вопрос 4: Как разные цели кредита влияют на его возврат в срок?</a></span></li><li><span><a href=\"#Вывод-4:\" data-toc-modified-id=\"Вывод-4:-8.8\"><span class=\"toc-item-num\">8.8&nbsp;&nbsp;</span>Вывод 4:</a></span></li></ul></li><li><span><a href=\"#Общий-вывод:\" data-toc-modified-id=\"Общий-вывод:-9\"><span class=\"toc-item-num\">9&nbsp;&nbsp;</span>Общий вывод:</a></span></li><li><span><a href=\"#Рекомендации-по-повышению-качества-данных\" data-toc-modified-id=\"Рекомендации-по-повышению-качества-данных-10\"><span class=\"toc-item-num\">10&nbsp;&nbsp;</span>Рекомендации по повышению качества данных</a></span></li></ul></div>"
   ]
  },
  {
   "cell_type": "markdown",
   "id": "89d3b2ea",
   "metadata": {},
   "source": [
    "## Описание"
   ]
  },
  {
   "cell_type": "markdown",
   "id": "1faa1ded",
   "metadata": {},
   "source": [
    "Заказчик — кредитный отдел банка. Нужно разобраться, влияет ли семейное положение и количество детей клиента на факт погашения кредита в срок. Входные данные от банка — статистика о платёжеспособности клиентов.\n",
    "\n",
    "Результаты исследования будут учтены при построении модели **кредитного скоринга**."
   ]
  },
  {
   "cell_type": "markdown",
   "id": "62b78ca6",
   "metadata": {
    "tags": []
   },
   "source": [
    "## Обзор данных"
   ]
  },
  {
   "cell_type": "markdown",
   "id": "7683011a-75dc-45b4-8a6e-faa096c8cd33",
   "metadata": {},
   "source": [
    "Импортируем библиотеку `pandas`."
   ]
  },
  {
   "cell_type": "code",
   "execution_count": 1,
   "id": "9c60221f",
   "metadata": {
    "tags": []
   },
   "outputs": [],
   "source": [
    "import pandas as pd"
   ]
  },
  {
   "cell_type": "markdown",
   "id": "601c8e40-c8fc-4d06-814d-37f0b778f17b",
   "metadata": {},
   "source": [
    "Прочитаем файл `data.csv` и сохраним его в переменную df."
   ]
  },
  {
   "cell_type": "code",
   "execution_count": 3,
   "id": "4c5f2159-e19e-45e4-9cfd-3e65a4e9cd4c",
   "metadata": {
    "tags": []
   },
   "outputs": [],
   "source": [
    "df = pd.read_csv('data.csv')"
   ]
  },
  {
   "cell_type": "markdown",
   "id": "a96827c4-ba22-41d4-a8b2-48b54fb45bef",
   "metadata": {},
   "source": [
    "Выведем на экран первые 5 строк таблицы."
   ]
  },
  {
   "cell_type": "code",
   "execution_count": 4,
   "id": "83cacfc9-a67e-4621-87e8-470eb8a2e0d3",
   "metadata": {
    "scrolled": true,
    "tags": []
   },
   "outputs": [
    {
     "data": {
      "text/html": [
       "<div>\n",
       "<style scoped>\n",
       "    .dataframe tbody tr th:only-of-type {\n",
       "        vertical-align: middle;\n",
       "    }\n",
       "\n",
       "    .dataframe tbody tr th {\n",
       "        vertical-align: top;\n",
       "    }\n",
       "\n",
       "    .dataframe thead th {\n",
       "        text-align: right;\n",
       "    }\n",
       "</style>\n",
       "<table border=\"1\" class=\"dataframe\">\n",
       "  <thead>\n",
       "    <tr style=\"text-align: right;\">\n",
       "      <th></th>\n",
       "      <th>children</th>\n",
       "      <th>days_employed</th>\n",
       "      <th>dob_years</th>\n",
       "      <th>education</th>\n",
       "      <th>education_id</th>\n",
       "      <th>family_status</th>\n",
       "      <th>family_status_id</th>\n",
       "      <th>gender</th>\n",
       "      <th>income_type</th>\n",
       "      <th>debt</th>\n",
       "      <th>total_income</th>\n",
       "      <th>purpose</th>\n",
       "    </tr>\n",
       "  </thead>\n",
       "  <tbody>\n",
       "    <tr>\n",
       "      <th>0</th>\n",
       "      <td>1</td>\n",
       "      <td>-8437.673028</td>\n",
       "      <td>42</td>\n",
       "      <td>высшее</td>\n",
       "      <td>0</td>\n",
       "      <td>женат / замужем</td>\n",
       "      <td>0</td>\n",
       "      <td>F</td>\n",
       "      <td>сотрудник</td>\n",
       "      <td>0</td>\n",
       "      <td>253875.639453</td>\n",
       "      <td>покупка жилья</td>\n",
       "    </tr>\n",
       "    <tr>\n",
       "      <th>1</th>\n",
       "      <td>1</td>\n",
       "      <td>-4024.803754</td>\n",
       "      <td>36</td>\n",
       "      <td>среднее</td>\n",
       "      <td>1</td>\n",
       "      <td>женат / замужем</td>\n",
       "      <td>0</td>\n",
       "      <td>F</td>\n",
       "      <td>сотрудник</td>\n",
       "      <td>0</td>\n",
       "      <td>112080.014102</td>\n",
       "      <td>приобретение автомобиля</td>\n",
       "    </tr>\n",
       "    <tr>\n",
       "      <th>2</th>\n",
       "      <td>0</td>\n",
       "      <td>-5623.422610</td>\n",
       "      <td>33</td>\n",
       "      <td>Среднее</td>\n",
       "      <td>1</td>\n",
       "      <td>женат / замужем</td>\n",
       "      <td>0</td>\n",
       "      <td>M</td>\n",
       "      <td>сотрудник</td>\n",
       "      <td>0</td>\n",
       "      <td>145885.952297</td>\n",
       "      <td>покупка жилья</td>\n",
       "    </tr>\n",
       "    <tr>\n",
       "      <th>3</th>\n",
       "      <td>3</td>\n",
       "      <td>-4124.747207</td>\n",
       "      <td>32</td>\n",
       "      <td>среднее</td>\n",
       "      <td>1</td>\n",
       "      <td>женат / замужем</td>\n",
       "      <td>0</td>\n",
       "      <td>M</td>\n",
       "      <td>сотрудник</td>\n",
       "      <td>0</td>\n",
       "      <td>267628.550329</td>\n",
       "      <td>дополнительное образование</td>\n",
       "    </tr>\n",
       "    <tr>\n",
       "      <th>4</th>\n",
       "      <td>0</td>\n",
       "      <td>340266.072047</td>\n",
       "      <td>53</td>\n",
       "      <td>среднее</td>\n",
       "      <td>1</td>\n",
       "      <td>гражданский брак</td>\n",
       "      <td>1</td>\n",
       "      <td>F</td>\n",
       "      <td>пенсионер</td>\n",
       "      <td>0</td>\n",
       "      <td>158616.077870</td>\n",
       "      <td>сыграть свадьбу</td>\n",
       "    </tr>\n",
       "  </tbody>\n",
       "</table>\n",
       "</div>"
      ],
      "text/plain": [
       "   children  days_employed  dob_years education  education_id  \\\n",
       "0         1   -8437.673028         42    высшее             0   \n",
       "1         1   -4024.803754         36   среднее             1   \n",
       "2         0   -5623.422610         33   Среднее             1   \n",
       "3         3   -4124.747207         32   среднее             1   \n",
       "4         0  340266.072047         53   среднее             1   \n",
       "\n",
       "      family_status  family_status_id gender income_type  debt   total_income  \\\n",
       "0   женат / замужем                 0      F   сотрудник     0  253875.639453   \n",
       "1   женат / замужем                 0      F   сотрудник     0  112080.014102   \n",
       "2   женат / замужем                 0      M   сотрудник     0  145885.952297   \n",
       "3   женат / замужем                 0      M   сотрудник     0  267628.550329   \n",
       "4  гражданский брак                 1      F   пенсионер     0  158616.077870   \n",
       "\n",
       "                      purpose  \n",
       "0               покупка жилья  \n",
       "1     приобретение автомобиля  \n",
       "2               покупка жилья  \n",
       "3  дополнительное образование  \n",
       "4             сыграть свадьбу  "
      ]
     },
     "execution_count": 4,
     "metadata": {},
     "output_type": "execute_result"
    }
   ],
   "source": [
    "df.head()"
   ]
  },
  {
   "cell_type": "markdown",
   "id": "882cd920-7e00-4e43-8fa2-4059d3c2fb84",
   "metadata": {},
   "source": [
    "Получим общую информацию о таблице."
   ]
  },
  {
   "cell_type": "code",
   "execution_count": 4,
   "id": "7f495347-8b10-4732-b419-b892b082adb1",
   "metadata": {},
   "outputs": [
    {
     "name": "stdout",
     "output_type": "stream",
     "text": [
      "<class 'pandas.core.frame.DataFrame'>\n",
      "RangeIndex: 21525 entries, 0 to 21524\n",
      "Data columns (total 12 columns):\n",
      " #   Column            Non-Null Count  Dtype  \n",
      "---  ------            --------------  -----  \n",
      " 0   children          21525 non-null  int64  \n",
      " 1   days_employed     19351 non-null  float64\n",
      " 2   dob_years         21525 non-null  int64  \n",
      " 3   education         21525 non-null  object \n",
      " 4   education_id      21525 non-null  int64  \n",
      " 5   family_status     21525 non-null  object \n",
      " 6   family_status_id  21525 non-null  int64  \n",
      " 7   gender            21525 non-null  object \n",
      " 8   income_type       21525 non-null  object \n",
      " 9   debt              21525 non-null  int64  \n",
      " 10  total_income      19351 non-null  float64\n",
      " 11  purpose           21525 non-null  object \n",
      "dtypes: float64(2), int64(5), object(5)\n",
      "memory usage: 2.0+ MB\n"
     ]
    }
   ],
   "source": [
    "df.info()"
   ]
  },
  {
   "cell_type": "markdown",
   "id": "458adc54-cc1c-470b-82ab-f7ce35750146",
   "metadata": {},
   "source": [
    "Рассмотрим полученную информацию подробнее.\n",
    "\n",
    "В датафрейме 12 столбцов из которых 4 столбца с количественными, 8 с категориальными значениями. \n",
    "Массив содержит следующие типы данных — `object`, `int64`, `float64`.\n",
    "\n",
    "Подробно разберём, какие в переменной **df** столбцы и какую информацию они содержат:\n",
    "* `children` — количество детей в семье;\n",
    "* `days_employed` — общий трудовой стаж в днях;\n",
    "* `dob_years` — возраст клиента в годах;\n",
    "* `education` — уровень образования клиента;\n",
    "* `education_id` — идентификатор уровня образования;\n",
    "* `family_status` — семейное положение;\n",
    "* `family_status_id` — идентификатор семейного положения;\n",
    "* `gender` — пол клиента;\n",
    "* `income_type` — тип занятости;\n",
    "* `debt` — имел ли задолженность по возврату кредитов;\n",
    "* `total_income` — ежемесячный доход;\n",
    "* `purpose` — цель получения кредита.\n",
    "\n",
    "Каждая строка таблицы содержит данные о клиентах банка. Имеющиеся данные позволяют нам судить: \n",
    "- об уровне образования клиентов банка;\n",
    "- о наличии детей у клиентов; \n",
    "- о семейном положении клиентов;\n",
    "- о стаже работы клиентов;\n",
    "- о целях получения кредита клиентами. "
   ]
  },
  {
   "cell_type": "markdown",
   "id": "4dc528cd-de19-4196-b627-a02de1b0b99f",
   "metadata": {},
   "source": [
    "**Выводы**\n",
    "\n",
    "Выявленные аномалии, пропуски в данных:\n",
    "\n",
    "- Количество строк в датафрейме 21 525, каждая из которой содержит данные о клиентах банка. Однако, количество не пустых строк в столбце с общим трудовым стажем `days_employed` и ежемесячным доходом `total_income` меньше на 10% и составляет 19 351. Объем пропусков не маленький, удаление всех строк, в которых встречаются пропуски в указанных столбцах или заполнение их значениями по умолчанию, может отразиться на точности исследования;\n",
    "- В столбце с возрастами клиентов банка `dob_years` встречаются нулевые значения. Данные значения нам пригодятся для категоризации клиентов по возрасту;\n",
    "- Столбец с информацией о стажах работы клиентов `days_employed` содержит отрицательные значения, стаж работы клиентов может быть нулевым, но не отрицательным. Кроме того, в столбце содержатся данные о клиентах, имеющих опыт работы свыше 100, что в принципе также сложно представить;\n",
    "- В столбце с количеством детей у клиентов `children` содержатся значения равные -1 и 20, иначе говоря, у банка есть клиенты у которых количество детей -1 и 20. Одназначно можно сказать, что количество детей может быть нулевым, но не отрицательным, наряду с этим наличие клиентов с 20-ью детьми также кажется недостоверной информацией, поскольку такие клиенты выпадают из общей вариации количества детей клиентов банка;\n",
    "- В столбце с информацией о половой принадлежности клиентов банка `gender` встречается значение \"XNA\", принадлежность которой к имеющимся полам сложно установить;\n",
    "- В столбце с информацией об уровнях образования клиентов `education` наблюдается разнорегисторная запись, например, значения \"Среднее\" и \"среднее\" определены, как 2 разных значения, что неверно. Также в столбце с информацией о семейных статусах не учтен нижний регистр для семейного статуса \"Не женат / не замужем\", что не критично;\n",
    "\n",
    "\n",
    "Для проверки рабочих гипотез особенно ценны столбцы: `children`, `family_status`, `debt`, `total_income`, `purpose`. В некоторых из перечисленных столбцов существуют большие пропуски.\n",
    "\n",
    "\n",
    "\n",
    "\n",
    "[В начало](#intro)."
   ]
  },
  {
   "cell_type": "markdown",
   "id": "9ddc606c",
   "metadata": {},
   "source": [
    "## Предобработка данных"
   ]
  },
  {
   "cell_type": "markdown",
   "id": "c57294bf",
   "metadata": {},
   "source": [
    "### Заполнение пропусков"
   ]
  },
  {
   "cell_type": "markdown",
   "id": "b033a61e-938a-4ac4-a049-d4c379a31fbe",
   "metadata": {},
   "source": [
    "Прежде, чем приступить к заполнению пропусков, подкорректируем наименования столбцов для удобства исследования.\n",
    "\n",
    "Переименуем следующие столбцы:\n",
    "\n",
    "`children` на `children_count`;\n",
    "\n",
    "`dob_years` на `age`;\n",
    "\n",
    "`education` на `education_level`;\n",
    "\n",
    "`income_type` на `employee_type`;\n",
    "\n",
    "`total_income` на `monthly_income`."
   ]
  },
  {
   "cell_type": "code",
   "execution_count": 5,
   "id": "1d2fd31e-d2d7-4570-96cf-a4632d50c192",
   "metadata": {},
   "outputs": [
    {
     "data": {
      "text/html": [
       "<div>\n",
       "<style scoped>\n",
       "    .dataframe tbody tr th:only-of-type {\n",
       "        vertical-align: middle;\n",
       "    }\n",
       "\n",
       "    .dataframe tbody tr th {\n",
       "        vertical-align: top;\n",
       "    }\n",
       "\n",
       "    .dataframe thead th {\n",
       "        text-align: right;\n",
       "    }\n",
       "</style>\n",
       "<table border=\"1\" class=\"dataframe\">\n",
       "  <thead>\n",
       "    <tr style=\"text-align: right;\">\n",
       "      <th></th>\n",
       "      <th>children_count</th>\n",
       "      <th>days_employed</th>\n",
       "      <th>age</th>\n",
       "      <th>education_level</th>\n",
       "      <th>education_id</th>\n",
       "      <th>family_status</th>\n",
       "      <th>family_status_id</th>\n",
       "      <th>gender</th>\n",
       "      <th>employee_type</th>\n",
       "      <th>debt</th>\n",
       "      <th>monthly_income</th>\n",
       "      <th>purpose</th>\n",
       "    </tr>\n",
       "  </thead>\n",
       "  <tbody>\n",
       "    <tr>\n",
       "      <th>0</th>\n",
       "      <td>1</td>\n",
       "      <td>-8437.673028</td>\n",
       "      <td>42</td>\n",
       "      <td>высшее</td>\n",
       "      <td>0</td>\n",
       "      <td>женат / замужем</td>\n",
       "      <td>0</td>\n",
       "      <td>F</td>\n",
       "      <td>сотрудник</td>\n",
       "      <td>0</td>\n",
       "      <td>253875.639453</td>\n",
       "      <td>покупка жилья</td>\n",
       "    </tr>\n",
       "    <tr>\n",
       "      <th>1</th>\n",
       "      <td>1</td>\n",
       "      <td>-4024.803754</td>\n",
       "      <td>36</td>\n",
       "      <td>среднее</td>\n",
       "      <td>1</td>\n",
       "      <td>женат / замужем</td>\n",
       "      <td>0</td>\n",
       "      <td>F</td>\n",
       "      <td>сотрудник</td>\n",
       "      <td>0</td>\n",
       "      <td>112080.014102</td>\n",
       "      <td>приобретение автомобиля</td>\n",
       "    </tr>\n",
       "    <tr>\n",
       "      <th>2</th>\n",
       "      <td>0</td>\n",
       "      <td>-5623.422610</td>\n",
       "      <td>33</td>\n",
       "      <td>Среднее</td>\n",
       "      <td>1</td>\n",
       "      <td>женат / замужем</td>\n",
       "      <td>0</td>\n",
       "      <td>M</td>\n",
       "      <td>сотрудник</td>\n",
       "      <td>0</td>\n",
       "      <td>145885.952297</td>\n",
       "      <td>покупка жилья</td>\n",
       "    </tr>\n",
       "    <tr>\n",
       "      <th>3</th>\n",
       "      <td>3</td>\n",
       "      <td>-4124.747207</td>\n",
       "      <td>32</td>\n",
       "      <td>среднее</td>\n",
       "      <td>1</td>\n",
       "      <td>женат / замужем</td>\n",
       "      <td>0</td>\n",
       "      <td>M</td>\n",
       "      <td>сотрудник</td>\n",
       "      <td>0</td>\n",
       "      <td>267628.550329</td>\n",
       "      <td>дополнительное образование</td>\n",
       "    </tr>\n",
       "    <tr>\n",
       "      <th>4</th>\n",
       "      <td>0</td>\n",
       "      <td>340266.072047</td>\n",
       "      <td>53</td>\n",
       "      <td>среднее</td>\n",
       "      <td>1</td>\n",
       "      <td>гражданский брак</td>\n",
       "      <td>1</td>\n",
       "      <td>F</td>\n",
       "      <td>пенсионер</td>\n",
       "      <td>0</td>\n",
       "      <td>158616.077870</td>\n",
       "      <td>сыграть свадьбу</td>\n",
       "    </tr>\n",
       "  </tbody>\n",
       "</table>\n",
       "</div>"
      ],
      "text/plain": [
       "   children_count  days_employed  age education_level  education_id  \\\n",
       "0               1   -8437.673028   42          высшее             0   \n",
       "1               1   -4024.803754   36         среднее             1   \n",
       "2               0   -5623.422610   33         Среднее             1   \n",
       "3               3   -4124.747207   32         среднее             1   \n",
       "4               0  340266.072047   53         среднее             1   \n",
       "\n",
       "      family_status  family_status_id gender employee_type  debt  \\\n",
       "0   женат / замужем                 0      F     сотрудник     0   \n",
       "1   женат / замужем                 0      F     сотрудник     0   \n",
       "2   женат / замужем                 0      M     сотрудник     0   \n",
       "3   женат / замужем                 0      M     сотрудник     0   \n",
       "4  гражданский брак                 1      F     пенсионер     0   \n",
       "\n",
       "   monthly_income                     purpose  \n",
       "0   253875.639453               покупка жилья  \n",
       "1   112080.014102     приобретение автомобиля  \n",
       "2   145885.952297               покупка жилья  \n",
       "3   267628.550329  дополнительное образование  \n",
       "4   158616.077870             сыграть свадьбу  "
      ]
     },
     "execution_count": 5,
     "metadata": {},
     "output_type": "execute_result"
    }
   ],
   "source": [
    "df = df.rename(columns={'children': 'children_count', \n",
    "                        'dob_years': 'age', \n",
    "                        'education': 'education_level', \n",
    "                        'income_type': 'employee_type', \n",
    "                        'total_income': 'monthly_income'})\n",
    "df.head()"
   ]
  },
  {
   "cell_type": "markdown",
   "id": "5fba44b5-a038-4b7b-a1a9-c46c33409088",
   "metadata": {},
   "source": [
    "Использование медианного значения, найденного на основании всего столбца с общим доходом может повышать или понижать уровень дохода для отдельных типов занятости, т.е. не будем использовать \"среднюю температуру по всей больнице\". Заполним пропущенные значения в столбце с ежемесячным доходом `monthly_income` медианным значением по каждому типу занятости по столбцу `employee_type`."
   ]
  },
  {
   "cell_type": "markdown",
   "id": "54dfe208-1027-4e9c-9fb0-95c4dac5029d",
   "metadata": {},
   "source": [
    "Посчитаем количество пропусков по каждому типу занятости."
   ]
  },
  {
   "cell_type": "code",
   "execution_count": 6,
   "id": "b324f21b-bb34-4077-8645-9fd94e838fa5",
   "metadata": {},
   "outputs": [
    {
     "data": {
      "text/plain": [
       "сотрудник          1105\n",
       "компаньон           508\n",
       "пенсионер           413\n",
       "госслужащий         147\n",
       "предприниматель       1\n",
       "Name: employee_type, dtype: int64"
      ]
     },
     "execution_count": 6,
     "metadata": {},
     "output_type": "execute_result"
    }
   ],
   "source": [
    "df.loc[df['monthly_income'].isna(), 'employee_type'].value_counts()"
   ]
  },
  {
   "cell_type": "markdown",
   "id": "2c51957f-1d6c-42f7-80e2-acfaf57cca0c",
   "metadata": {},
   "source": [
    "Найдем медианные значения уровня дохода для каждого типа занятости."
   ]
  },
  {
   "cell_type": "code",
   "execution_count": 7,
   "id": "6a78a628",
   "metadata": {},
   "outputs": [
    {
     "data": {
      "text/plain": [
       "employee_type\n",
       "безработный        131339.751676\n",
       "в декрете           53829.130729\n",
       "госслужащий        150447.935283\n",
       "компаньон          172357.950966\n",
       "пенсионер          118514.486412\n",
       "предприниматель    499163.144947\n",
       "сотрудник          142594.396847\n",
       "студент             98201.625314\n",
       "Name: monthly_income, dtype: float64"
      ]
     },
     "execution_count": 7,
     "metadata": {},
     "output_type": "execute_result"
    }
   ],
   "source": [
    "employee_types_medians = df.groupby('employee_type')['monthly_income'].median()\n",
    "employee_types_medians"
   ]
  },
  {
   "cell_type": "markdown",
   "id": "1b369874-007a-42e3-817c-2726f055efb0",
   "metadata": {},
   "source": [
    "Заполним столбец c ежемесячным доходом найденными медианными значениями для каждого отдельного типа занятости, в которых нам встретились пропуски."
   ]
  },
  {
   "cell_type": "code",
   "execution_count": 8,
   "id": "b4891052-cbf7-4c36-9752-1667c2bdc86f",
   "metadata": {},
   "outputs": [],
   "source": [
    "df.loc[(df['monthly_income'].isna()) & (df['employee_type'] == 'сотрудник'), 'monthly_income'] = employee_types_medians[6]\n",
    "df.loc[(df['monthly_income'].isna()) & (df['employee_type'] == 'компаньон'), 'monthly_income'] = employee_types_medians[3]\n",
    "df.loc[(df['monthly_income'].isna()) & (df['employee_type'] == 'пенсионер'), 'monthly_income'] = employee_types_medians[4]\n",
    "df.loc[(df['monthly_income'].isna()) & (df['employee_type'] == 'госслужащий'), 'monthly_income'] = employee_types_medians[2]\n",
    "df.loc[(df['monthly_income'].isna()) & (df['employee_type'] == 'предприниматель'), 'monthly_income'] = employee_types_medians[5]"
   ]
  },
  {
   "cell_type": "markdown",
   "id": "7e2da040-4835-4cf3-8a80-28e472f6f421",
   "metadata": {},
   "source": [
    "Проверим все ли пропуски в столбце с ежемесячным доходом были заполнены."
   ]
  },
  {
   "cell_type": "code",
   "execution_count": 9,
   "id": "a41d2dc2-ce60-4687-a0d8-dcff12962b7a",
   "metadata": {},
   "outputs": [
    {
     "data": {
      "text/plain": [
       "0"
      ]
     },
     "execution_count": 9,
     "metadata": {},
     "output_type": "execute_result"
    }
   ],
   "source": [
    "df['monthly_income'].isna().sum()"
   ]
  },
  {
   "cell_type": "markdown",
   "id": "c35635cb-a0cf-432f-ad9d-de655f474ac3",
   "metadata": {},
   "source": [
    "В столбце с информацией о возрасте клиентов банка встречаются нули."
   ]
  },
  {
   "cell_type": "code",
   "execution_count": 10,
   "id": "412a2675-f7f2-4217-bcb4-9202d25c9bb7",
   "metadata": {},
   "outputs": [
    {
     "data": {
      "text/plain": [
       "сотрудник      55\n",
       "пенсионер      20\n",
       "компаньон      20\n",
       "госслужащий     6\n",
       "Name: employee_type, dtype: int64"
      ]
     },
     "execution_count": 10,
     "metadata": {},
     "output_type": "execute_result"
    }
   ],
   "source": [
    "df.loc[df['age'] == 0, 'employee_type'].value_counts()"
   ]
  },
  {
   "cell_type": "markdown",
   "id": "fc05249d-6ee9-4784-bc87-1d693b414513",
   "metadata": {},
   "source": [
    "Найдем медианные значения по возрасту клиентов в зависимости от типа занятости."
   ]
  },
  {
   "cell_type": "code",
   "execution_count": 11,
   "id": "f4974cd7-b1df-4609-965a-dbc7b6b67d7a",
   "metadata": {},
   "outputs": [
    {
     "data": {
      "text/plain": [
       "employee_type\n",
       "безработный        38.0\n",
       "в декрете          39.0\n",
       "госслужащий        40.0\n",
       "компаньон          39.0\n",
       "пенсионер          60.0\n",
       "предприниматель    42.5\n",
       "сотрудник          39.0\n",
       "студент            22.0\n",
       "Name: age, dtype: float64"
      ]
     },
     "execution_count": 11,
     "metadata": {},
     "output_type": "execute_result"
    }
   ],
   "source": [
    "age_medians = df.groupby('employee_type')['age'].median()\n",
    "age_medians"
   ]
  },
  {
   "cell_type": "markdown",
   "id": "864cc94e-2518-40e3-b310-66bf733b5877",
   "metadata": {},
   "source": [
    "Заполним имеющие нулевые значения в возрастах клиентов банка медианными значениями по разным типам занятости."
   ]
  },
  {
   "cell_type": "code",
   "execution_count": 12,
   "id": "18db14cb-65ee-4339-be1b-9c0f27075d64",
   "metadata": {},
   "outputs": [],
   "source": [
    "df.loc[(df['age'] == 0) & (df['employee_type'] == 'сотрудник'), 'age'] = age_medians[6]\n",
    "df.loc[(df['age'] == 0) & (df['employee_type'] == 'пенсионер'), 'age'] = age_medians[4]\n",
    "df.loc[(df['age'] == 0) & (df['employee_type'] == 'компаньон'), 'age'] = age_medians[3]\n",
    "df.loc[(df['age'] == 0) & (df['employee_type'] == 'госслужащий'), 'age'] = age_medians[2]"
   ]
  },
  {
   "cell_type": "markdown",
   "id": "a8114ae8-4d80-4812-87f3-3a01e96612b9",
   "metadata": {},
   "source": [
    "Проверим остались ли строки в столбце с нулевым возрастом клиентов."
   ]
  },
  {
   "cell_type": "code",
   "execution_count": 13,
   "id": "a2409a79-3c2d-4678-b9d3-f19e909c03ef",
   "metadata": {},
   "outputs": [
    {
     "data": {
      "text/plain": [
       "Series([], Name: age, dtype: int64)"
      ]
     },
     "execution_count": 13,
     "metadata": {},
     "output_type": "execute_result"
    }
   ],
   "source": [
    "df.loc[df['age'] == 0, 'age'].value_counts()"
   ]
  },
  {
   "cell_type": "markdown",
   "id": "62af354d-03a6-4a44-9fed-b65de23c2bc8",
   "metadata": {},
   "source": [
    "Использование медианного значения, найденного по типу занятости при заполнении пропусков по стажу работы `days_employed` может не отражать действительную картину, поэтому заполним пропуски в стажах работы клиентов банка медианными значениями по возрасту. Для этого нам потребуется выделить возрастные категории клиентов: в качестве границ категорий выберем квантили (25%, 50% и 75%)."
   ]
  },
  {
   "cell_type": "code",
   "execution_count": 14,
   "id": "b9440dea-4904-4e7a-a3d3-f3903d011643",
   "metadata": {},
   "outputs": [
    {
     "data": {
      "text/plain": [
       "25%    34.0\n",
       "50%    43.0\n",
       "75%    53.0\n",
       "Name: age, dtype: float64"
      ]
     },
     "execution_count": 14,
     "metadata": {},
     "output_type": "execute_result"
    }
   ],
   "source": [
    "df['age'].describe()[4:7]"
   ]
  },
  {
   "cell_type": "markdown",
   "id": "7dea88ed-962f-41fd-b013-6159c7138557",
   "metadata": {},
   "source": [
    "Далее создадим функцию которая на входе принимает информацию о возрасте клиента и возвращает категорию. Внутри функции используем конструкцию, которая сообщит нам при наличии не валидных значений по столбцу."
   ]
  },
  {
   "cell_type": "code",
   "execution_count": 15,
   "id": "92865c33-0112-4cf5-949b-63c8e279cb61",
   "metadata": {},
   "outputs": [],
   "source": [
    "def set_age(data):\n",
    "    try:\n",
    "        if data < 34:\n",
    "            return 'до 34'\n",
    "        if data < 43:\n",
    "            return 'от 34 до 43'\n",
    "        if data < 54:\n",
    "            return 'от 43 до 54'\n",
    "        return 'свыше 54'\n",
    "    except:\n",
    "        print(f\"Значение {data} не попадает ни под одно условие\")"
   ]
  },
  {
   "cell_type": "markdown",
   "id": "f37f7cfd-6a4f-4ce7-9dd0-15ee3d9fec83",
   "metadata": {},
   "source": [
    "Создадим новый столбец `age_frame`, который будет отражать информацию о категоризации клиентов по возрастным рамкам и заполним его нашей функцией. "
   ]
  },
  {
   "cell_type": "code",
   "execution_count": 16,
   "id": "578ffffd-3fff-40ee-89c5-19d1a583e3ce",
   "metadata": {},
   "outputs": [],
   "source": [
    "df['age_frame'] = df['age'].apply(set_age)"
   ]
  },
  {
   "cell_type": "markdown",
   "id": "db56d7ae-a511-433b-8810-bb1fe2344b78",
   "metadata": {},
   "source": [
    "Теперь определим медианные значения для каждой возрастной группы."
   ]
  },
  {
   "cell_type": "code",
   "execution_count": 17,
   "id": "5f3ff2dc-6b4b-4229-b51b-dd70163d1c4f",
   "metadata": {},
   "outputs": [
    {
     "data": {
      "text/plain": [
       "age_frame\n",
       "до 34           -1130.581631\n",
       "от 34 до 43     -1759.889098\n",
       "от 43 до 54     -1839.038911\n",
       "свыше 54       343033.965497\n",
       "Name: days_employed, dtype: float64"
      ]
     },
     "execution_count": 17,
     "metadata": {},
     "output_type": "execute_result"
    }
   ],
   "source": [
    "days_employed_medians = df.groupby('age_frame')['days_employed'].median()\n",
    "days_employed_medians"
   ]
  },
  {
   "cell_type": "markdown",
   "id": "4a51e002-7097-46ce-924e-c9c3b2d95885",
   "metadata": {},
   "source": [
    "Заполним пропущенные значения в столбце со стажем работы найденным медианным значением."
   ]
  },
  {
   "cell_type": "code",
   "execution_count": 18,
   "id": "b798babe-fc2a-4ff3-b161-583d3fc0d09a",
   "metadata": {},
   "outputs": [],
   "source": [
    "df.loc[(df['days_employed'].isna()) & (df['age_frame'] == 'до 34'), 'days_employed'] = days_employed_medians[0]\n",
    "df.loc[(df['days_employed'].isna()) & (df['age_frame'] == 'от 34 до 43'), 'days_employed'] = days_employed_medians[1]\n",
    "df.loc[(df['days_employed'].isna()) & (df['age_frame'] == 'от 43 до 54'), 'days_employed'] = days_employed_medians[2]\n",
    "df.loc[(df['days_employed'].isna()) & (df['age_frame'] == 'свыше 54'), 'days_employed'] = days_employed_medians[3]"
   ]
  },
  {
   "cell_type": "markdown",
   "id": "08ff252a-e83c-46de-9fc8-ee9ec7dda86c",
   "metadata": {},
   "source": [
    "Проверим заполнились ли все строки в датафрейме."
   ]
  },
  {
   "cell_type": "code",
   "execution_count": 19,
   "id": "6ba4ee75-5f8d-4a55-b576-908add7cf893",
   "metadata": {},
   "outputs": [
    {
     "data": {
      "text/plain": [
       "children_count      0\n",
       "days_employed       0\n",
       "age                 0\n",
       "education_level     0\n",
       "education_id        0\n",
       "family_status       0\n",
       "family_status_id    0\n",
       "gender              0\n",
       "employee_type       0\n",
       "debt                0\n",
       "monthly_income      0\n",
       "purpose             0\n",
       "age_frame           0\n",
       "dtype: int64"
      ]
     },
     "execution_count": 19,
     "metadata": {},
     "output_type": "execute_result"
    }
   ],
   "source": [
    "df.isna().sum()"
   ]
  },
  {
   "cell_type": "markdown",
   "id": "ae33b71a-7d8b-4a1d-b29f-9f4d4f6264a7",
   "metadata": {},
   "source": [
    "**Выводы:**\n",
    "\n",
    "- Были обнаружены пропуски в столбце с информацией о ежемесячном доходе клиентов банка и заполнены медианными значениями в зависимости от типа занятости;\n",
    "- Были обнаружены нули в столбце, содержающем информацию о возрасте клиентов банка и заменены медианными значениями в зависимости от типа занятости;\n",
    "- Были обнаружены пропуски в столбе с информацией о трудовом стаже клиентов и заполнены медианными значениями в зависимости от возрастной категории клиентов банка.\n",
    "\n",
    "[В начало](#intro)."
   ]
  },
  {
   "cell_type": "markdown",
   "id": "841b572b",
   "metadata": {},
   "source": [
    "### Проверка данных на аномалии и исправления."
   ]
  },
  {
   "cell_type": "markdown",
   "id": "26d92153-2f64-4964-986c-c3eee5cd3eb8",
   "metadata": {},
   "source": [
    "Данные в столбце со стажем работы клиентов банка представленны с минусом."
   ]
  },
  {
   "cell_type": "code",
   "execution_count": 20,
   "id": "fd8a86f5-eeb7-43ce-9690-631f3be43603",
   "metadata": {},
   "outputs": [
    {
     "data": {
      "text/plain": [
       "0     -8437.673028\n",
       "1     -4024.803754\n",
       "2     -5623.422610\n",
       "3     -4124.747207\n",
       "4    340266.072047\n",
       "5      -926.185831\n",
       "6     -2879.202052\n",
       "7      -152.779569\n",
       "8     -6929.865299\n",
       "9     -2188.756445\n",
       "Name: days_employed, dtype: float64"
      ]
     },
     "execution_count": 20,
     "metadata": {},
     "output_type": "execute_result"
    }
   ],
   "source": [
    "df['days_employed'].head(10)"
   ]
  },
  {
   "cell_type": "markdown",
   "id": "d459b1f2-cfae-4249-bd9e-103569e67b49",
   "metadata": {},
   "source": [
    "Исправим найденную аномалию."
   ]
  },
  {
   "cell_type": "code",
   "execution_count": 21,
   "id": "71aa5455-25a7-4774-9da2-ba515e63e6d2",
   "metadata": {},
   "outputs": [],
   "source": [
    "df['days_employed'] = abs(df['days_employed'])"
   ]
  },
  {
   "cell_type": "markdown",
   "id": "726f1da8-a36c-468c-8a3b-0b1930b78f57",
   "metadata": {},
   "source": [
    "Проверим устранение аномалии, повторно выведем на экран столбец со стажем работы."
   ]
  },
  {
   "cell_type": "code",
   "execution_count": 22,
   "id": "9d5725dc-b686-4aa1-9b02-ee62eaefe87e",
   "metadata": {},
   "outputs": [
    {
     "data": {
      "text/plain": [
       "0      8437.673028\n",
       "1      4024.803754\n",
       "2      5623.422610\n",
       "3      4124.747207\n",
       "4    340266.072047\n",
       "5       926.185831\n",
       "6      2879.202052\n",
       "7       152.779569\n",
       "8      6929.865299\n",
       "9      2188.756445\n",
       "Name: days_employed, dtype: float64"
      ]
     },
     "execution_count": 22,
     "metadata": {},
     "output_type": "execute_result"
    }
   ],
   "source": [
    "df['days_employed'].head(10)"
   ]
  },
  {
   "cell_type": "markdown",
   "id": "dee258d2-1b13-498f-840d-164b3531bb13",
   "metadata": {},
   "source": [
    "Наблюдаются также аномалии с количеством детей у клиентов. У большинста клиентов количество детей варьируется от 0 до 4. Однако, среди данных представлены клиенты с количеством детей -1 и 20. "
   ]
  },
  {
   "cell_type": "code",
   "execution_count": 23,
   "id": "b3be3a7a-7d77-42b5-9234-ba36832ce56b",
   "metadata": {},
   "outputs": [
    {
     "data": {
      "text/plain": [
       " 0     14149\n",
       " 1      4818\n",
       " 2      2055\n",
       " 3       330\n",
       " 20       76\n",
       "-1        47\n",
       " 4        41\n",
       " 5         9\n",
       "Name: children_count, dtype: int64"
      ]
     },
     "execution_count": 23,
     "metadata": {},
     "output_type": "execute_result"
    }
   ],
   "source": [
    "df['children_count'].value_counts()"
   ]
  },
  {
   "cell_type": "markdown",
   "id": "055b5bc3-f84f-42f9-aa19-3ada538920c7",
   "metadata": {},
   "source": [
    "Заменим выявленные значения -1 и 20, выпадающие из общей выборки исходя из предположения, что под значением -1 подразумевалось наличие у клиента 1-го ребенка, а под 20 - 2-ух детей."
   ]
  },
  {
   "cell_type": "code",
   "execution_count": 24,
   "id": "8cf67091-537a-43f1-b66b-97298b2ce923",
   "metadata": {},
   "outputs": [],
   "source": [
    "df.loc[df['children_count'] == -1, 'children_count'] = 1\n",
    "df.loc[df['children_count'] == 20, 'children_count'] = 2"
   ]
  },
  {
   "cell_type": "markdown",
   "id": "86b73eb8-fbb7-4250-b3b1-0e775a471ecb",
   "metadata": {},
   "source": [
    "Проверим устранены ли выявленные аномалии."
   ]
  },
  {
   "cell_type": "code",
   "execution_count": 25,
   "id": "c5304e12-cde6-4806-8a66-5e7e35ef0239",
   "metadata": {},
   "outputs": [
    {
     "data": {
      "text/plain": [
       "0    14149\n",
       "1     4865\n",
       "2     2131\n",
       "3      330\n",
       "4       41\n",
       "5        9\n",
       "Name: children_count, dtype: int64"
      ]
     },
     "execution_count": 25,
     "metadata": {},
     "output_type": "execute_result"
    }
   ],
   "source": [
    "df['children_count'].value_counts()"
   ]
  },
  {
   "cell_type": "code",
   "execution_count": 26,
   "id": "86c546ae-b22f-48bf-affb-62d8f8b341e2",
   "metadata": {},
   "outputs": [
    {
     "name": "stdout",
     "output_type": "stream",
     "text": [
      "Доля клиентов с количеством детей равным 0 составляет 65.73%\n",
      "Доля клиентов с количеством детей равным 1 составляет 22.6%\n",
      "Доля клиентов с количеством детей равным 2 составляет 9.9%\n",
      "Доля клиентов с количеством детей равным 3 составляет 1.53%\n",
      "Доля клиентов с количеством детей равным 4 составляет 0.19%\n",
      "Доля клиентов с количеством детей равным 5 составляет 0.04%\n"
     ]
    }
   ],
   "source": [
    "count = -1\n",
    "for value in df['children_count'].value_counts():\n",
    "    count += 1\n",
    "    print(f\"Доля клиентов с количеством детей равным {count} составляет {round(value/df['children_count'].value_counts().sum()*100, 2)}%\")"
   ]
  },
  {
   "cell_type": "markdown",
   "id": "ef4c484b-faa0-420f-ba7e-bd6654437530",
   "metadata": {},
   "source": [
    "Как мы видим у порядка 66% клиентов банка дети отсутствуют, около четверти клиентов имеет только одного ребенка и всего около 10% клиентов банка имеют от двух детей в семье. "
   ]
  },
  {
   "cell_type": "markdown",
   "id": "23003565-d4a7-4300-b331-95ac8353f660",
   "metadata": {},
   "source": [
    "В столбце с информацей о гендерах клиентов банка обнаружена аномалия."
   ]
  },
  {
   "cell_type": "code",
   "execution_count": 27,
   "id": "591cbc4e-19c6-4460-904a-64c777ce42f5",
   "metadata": {},
   "outputs": [
    {
     "data": {
      "text/plain": [
       "F      14236\n",
       "M       7288\n",
       "XNA        1\n",
       "Name: gender, dtype: int64"
      ]
     },
     "execution_count": 27,
     "metadata": {},
     "output_type": "execute_result"
    }
   ],
   "source": [
    "df['gender'].value_counts()"
   ]
  },
  {
   "cell_type": "markdown",
   "id": "0ff31686-2d63-4623-9283-a53e547c1f65",
   "metadata": {},
   "source": [
    "Гендер \"XNA\" встречается всего раз и поскольку представителей женского пола в нашей выборке вдвое больше, чем мужского пола, то вероятность того, что данный клиент относится к женскому полу объективно больше, поэтому заменим \"XNA\" на \"F\"."
   ]
  },
  {
   "cell_type": "code",
   "execution_count": 28,
   "id": "ddd7ad7f-e7c5-4e88-9ae0-2abbfa52df37",
   "metadata": {},
   "outputs": [],
   "source": [
    "df.loc[df['gender'] == 'XNA', 'gender'] = 'F'"
   ]
  },
  {
   "cell_type": "markdown",
   "id": "86fc2dea-bffc-46ed-a11a-0413311843a0",
   "metadata": {},
   "source": [
    "Проверим был ли устранен артефакт в столбце с информацией о гендере клиентов."
   ]
  },
  {
   "cell_type": "code",
   "execution_count": 29,
   "id": "9b9423a4-71d0-4eeb-a13e-12008046421b",
   "metadata": {},
   "outputs": [
    {
     "data": {
      "text/plain": [
       "F    14237\n",
       "M     7288\n",
       "Name: gender, dtype: int64"
      ]
     },
     "execution_count": 29,
     "metadata": {},
     "output_type": "execute_result"
    }
   ],
   "source": [
    "df['gender'].value_counts()"
   ]
  },
  {
   "cell_type": "markdown",
   "id": "2f3aa70e-fb29-4e87-9ee8-b40dba0b2b90",
   "metadata": {},
   "source": [
    "В столбце `education_level` наюблюдаются разные формы записей уровней образования, которые могли возникнуть при внесении информации во время оформления заявки на кредит ввиду отсутствия унифицированных форм записей.\n",
    "\n",
    "Посчитаем уникальные значения уровней образования клиентов банка."
   ]
  },
  {
   "cell_type": "code",
   "execution_count": 30,
   "id": "3062980d-bdd4-41fc-a7eb-04b80fff5f29",
   "metadata": {},
   "outputs": [
    {
     "data": {
      "text/plain": [
       "среднее                13750\n",
       "высшее                  4718\n",
       "СРЕДНЕЕ                  772\n",
       "Среднее                  711\n",
       "неоконченное высшее      668\n",
       "ВЫСШЕЕ                   274\n",
       "Высшее                   268\n",
       "начальное                250\n",
       "Неоконченное высшее       47\n",
       "НЕОКОНЧЕННОЕ ВЫСШЕЕ       29\n",
       "НАЧАЛЬНОЕ                 17\n",
       "Начальное                 15\n",
       "ученая степень             4\n",
       "Ученая степень             1\n",
       "УЧЕНАЯ СТЕПЕНЬ             1\n",
       "Name: education_level, dtype: int64"
      ]
     },
     "execution_count": 30,
     "metadata": {},
     "output_type": "execute_result"
    }
   ],
   "source": [
    "df['education_level'].value_counts()"
   ]
  },
  {
   "cell_type": "markdown",
   "id": "470cbaf3-6c14-4626-84ea-abd48a924b4c",
   "metadata": {},
   "source": [
    "Перед поиском дубликатов приведем все данные по образованию клиентов к нижнему регистру. В противном случае, при поиске дубликатов значения \"Среднее\" и \"среднее\" будут определены, как 2 разных значения, что неверно. "
   ]
  },
  {
   "cell_type": "code",
   "execution_count": 31,
   "id": "659a08b5-43b8-4827-9180-72c18940675b",
   "metadata": {},
   "outputs": [],
   "source": [
    "df['education_level'] = df['education_level'].str.lower()"
   ]
  },
  {
   "cell_type": "markdown",
   "id": "3f072a29-d90a-47f3-a5ce-18ea2b0bcf65",
   "metadata": {},
   "source": [
    "Проверим все ли значения уровней образования были приведены к нижнему регистру."
   ]
  },
  {
   "cell_type": "code",
   "execution_count": 32,
   "id": "537956a9-4417-4aba-bf0e-ed0a4fd06982",
   "metadata": {},
   "outputs": [
    {
     "data": {
      "text/plain": [
       "среднее                15233\n",
       "высшее                  5260\n",
       "неоконченное высшее      744\n",
       "начальное                282\n",
       "ученая степень             6\n",
       "Name: education_level, dtype: int64"
      ]
     },
     "execution_count": 32,
     "metadata": {},
     "output_type": "execute_result"
    }
   ],
   "source": [
    "df['education_level'].value_counts()"
   ]
  },
  {
   "cell_type": "markdown",
   "id": "e9bf2426-efe7-410a-95e4-ad8390c06c5d",
   "metadata": {},
   "source": [
    "Также не все зачения столбца с семейными статусами приведены к нижнему ристру."
   ]
  },
  {
   "cell_type": "code",
   "execution_count": 33,
   "id": "85a20da2-1c89-46fe-9ebb-5c29786de4cc",
   "metadata": {},
   "outputs": [
    {
     "data": {
      "text/plain": [
       "женат / замужем          12380\n",
       "гражданский брак          4177\n",
       "Не женат / не замужем     2813\n",
       "в разводе                 1195\n",
       "вдовец / вдова             960\n",
       "Name: family_status, dtype: int64"
      ]
     },
     "execution_count": 33,
     "metadata": {},
     "output_type": "execute_result"
    }
   ],
   "source": [
    "df['family_status'].value_counts()"
   ]
  },
  {
   "cell_type": "code",
   "execution_count": 34,
   "id": "37744ac0-cc8a-43f5-b279-2ad10957ceea",
   "metadata": {},
   "outputs": [],
   "source": [
    "df['family_status'] = df['family_status'].str.lower()"
   ]
  },
  {
   "cell_type": "markdown",
   "id": "fefcafe4-7540-456e-bc22-f7eea537bfa9",
   "metadata": {},
   "source": [
    "Проверим все ли значения столбца были приведены к нижнему регистру."
   ]
  },
  {
   "cell_type": "code",
   "execution_count": 35,
   "id": "87698e81-3932-4980-81d3-a9d7a8abaedf",
   "metadata": {},
   "outputs": [
    {
     "data": {
      "text/plain": [
       "женат / замужем          12380\n",
       "гражданский брак          4177\n",
       "не женат / не замужем     2813\n",
       "в разводе                 1195\n",
       "вдовец / вдова             960\n",
       "Name: family_status, dtype: int64"
      ]
     },
     "execution_count": 35,
     "metadata": {},
     "output_type": "execute_result"
    }
   ],
   "source": [
    "df['family_status'].value_counts()"
   ]
  },
  {
   "cell_type": "markdown",
   "id": "d8d00457-6c1b-462a-a2ba-ce11469d532c",
   "metadata": {},
   "source": [
    "**Выводы:**\n",
    "\n",
    "- Были выявлены и исправлены отрицательные значения для столбца с ежемесячным доходом клиентов;\n",
    "- Были выявлены и исправлены значения -1 и 20 для столбца с информацей о количестве детей клиентов банка;\n",
    "- В столбце с информацией о стаже работы клиентов содержатся данные о клиентах, имеющих опыт работы свыше 100, на результат проверки гипотез по исследованию указанная аномалия никак не влияет, однако, стоит разобраться в причинах наличия таких недостоверных данных.\n",
    "- Было выявлено и устранено значение \"XNA\" в столбце с информацией о половой принадлежности клиентов банка;\n",
    "- В столбце с уровнем образования, а также в столбце с информацией о семейных статусах все значения приведены к нижнему регистру.\n",
    "\n",
    "[В начало](#intro)."
   ]
  },
  {
   "cell_type": "markdown",
   "id": "3fc78259",
   "metadata": {
    "tags": []
   },
   "source": [
    "### Удаление дубликатов."
   ]
  },
  {
   "cell_type": "markdown",
   "id": "6c63e4ad-61ce-4458-a841-50234aa79623",
   "metadata": {},
   "source": [
    "Посчитаем количество дубликатов в датафрейме."
   ]
  },
  {
   "cell_type": "code",
   "execution_count": 36,
   "id": "0257250f-79f3-4ca5-9a3f-b6c2dd1b9f36",
   "metadata": {},
   "outputs": [
    {
     "data": {
      "text/plain": [
       "71"
      ]
     },
     "execution_count": 36,
     "metadata": {},
     "output_type": "execute_result"
    }
   ],
   "source": [
    "df.duplicated().sum()"
   ]
  },
  {
   "cell_type": "markdown",
   "id": "ef7babaf-15f9-4e8e-9d0e-dfb27025184d",
   "metadata": {},
   "source": [
    "Удалим выявленные дубликаты в данных."
   ]
  },
  {
   "cell_type": "code",
   "execution_count": 37,
   "id": "93d61722-2c02-4936-9a23-85c02e42fb24",
   "metadata": {},
   "outputs": [],
   "source": [
    "df = df.drop_duplicates().reset_index(drop=True)"
   ]
  },
  {
   "cell_type": "markdown",
   "id": "6213f81c-ef0a-4601-ae7e-92320bd84681",
   "metadata": {},
   "source": [
    "Проверим были ли устранены дубликаты в данных."
   ]
  },
  {
   "cell_type": "code",
   "execution_count": 38,
   "id": "76086b17-0e2b-42ba-be40-6eb13c4ed6f0",
   "metadata": {},
   "outputs": [
    {
     "data": {
      "text/plain": [
       "0"
      ]
     },
     "execution_count": 38,
     "metadata": {},
     "output_type": "execute_result"
    }
   ],
   "source": [
    "df.duplicated().sum()"
   ]
  },
  {
   "cell_type": "markdown",
   "id": "8e824159",
   "metadata": {},
   "source": [
    "### Изменение типов данных."
   ]
  },
  {
   "cell_type": "markdown",
   "id": "2a9f8b11-b006-4065-86f6-bceb6cbabd29",
   "metadata": {},
   "source": [
    "Рассмотрим имеющиеся типы данных в датафрейме."
   ]
  },
  {
   "cell_type": "code",
   "execution_count": 39,
   "id": "f10f89c8-feff-4c08-b04e-bbfa089e3b12",
   "metadata": {},
   "outputs": [
    {
     "data": {
      "text/plain": [
       "children_count        int64\n",
       "days_employed       float64\n",
       "age                   int64\n",
       "education_level      object\n",
       "education_id          int64\n",
       "family_status        object\n",
       "family_status_id      int64\n",
       "gender               object\n",
       "employee_type        object\n",
       "debt                  int64\n",
       "monthly_income      float64\n",
       "purpose              object\n",
       "age_frame            object\n",
       "dtype: object"
      ]
     },
     "execution_count": 39,
     "metadata": {},
     "output_type": "execute_result"
    }
   ],
   "source": [
    "df.dtypes"
   ]
  },
  {
   "cell_type": "markdown",
   "id": "3457e815-9f99-47cb-b0c8-1bb9302a6e41",
   "metadata": {},
   "source": [
    "В столбцах с общим стажем клиентов и ежемесячным доходом данные представлены в виде вещественных чисел.\n",
    "\n",
    "Заменим типы данных в указанных столбцах на целые числа."
   ]
  },
  {
   "cell_type": "code",
   "execution_count": 40,
   "id": "5d8f0de3-0e9c-4275-90b9-4b060a412313",
   "metadata": {},
   "outputs": [],
   "source": [
    "df['days_employed'] = df['days_employed'].astype('int')\n",
    "df['monthly_income'] = df['monthly_income'].astype('int')"
   ]
  },
  {
   "cell_type": "markdown",
   "id": "d4dd25bd-70a1-4af5-b3a6-2add9cb49171",
   "metadata": {},
   "source": [
    "Проверим применились ли изменения к типам данных."
   ]
  },
  {
   "cell_type": "code",
   "execution_count": 41,
   "id": "62e4ef41-cdeb-40cd-b1ca-7b1bf7cb0d9a",
   "metadata": {},
   "outputs": [
    {
     "data": {
      "text/plain": [
       "children_count       int64\n",
       "days_employed        int64\n",
       "age                  int64\n",
       "education_level     object\n",
       "education_id         int64\n",
       "family_status       object\n",
       "family_status_id     int64\n",
       "gender              object\n",
       "employee_type       object\n",
       "debt                 int64\n",
       "monthly_income       int64\n",
       "purpose             object\n",
       "age_frame           object\n",
       "dtype: object"
      ]
     },
     "execution_count": 41,
     "metadata": {},
     "output_type": "execute_result"
    }
   ],
   "source": [
    "df.dtypes"
   ]
  },
  {
   "cell_type": "markdown",
   "id": "7c21c134",
   "metadata": {},
   "source": [
    "[В начало](#intro)."
   ]
  },
  {
   "cell_type": "markdown",
   "id": "4da9060d",
   "metadata": {},
   "source": [
    "## Формирование дополнительных датафреймов словарей, декомпозиция исходного датафрейма."
   ]
  },
  {
   "cell_type": "markdown",
   "id": "8ac1143b-3c2a-4a8f-a0f6-3872a476099b",
   "metadata": {},
   "source": [
    "Для удобства работы с информацией, а также оптимизации данных в датафрейме создадим словари."
   ]
  },
  {
   "cell_type": "code",
   "execution_count": 42,
   "id": "d22b70cd",
   "metadata": {},
   "outputs": [],
   "source": [
    "education_dict = df[['education_level', 'education_id']]\n",
    "family_status_dict = df[['family_status', 'family_status_id']]"
   ]
  },
  {
   "cell_type": "markdown",
   "id": "2a607cad-4ed9-41bd-a57b-ca4773ee90d5",
   "metadata": {},
   "source": [
    "Удалим дубликаты из словарей."
   ]
  },
  {
   "cell_type": "code",
   "execution_count": 43,
   "id": "cf0a3a8f-1da6-468e-a7d5-bf1564d8e8d7",
   "metadata": {},
   "outputs": [],
   "source": [
    "education_dict = education_dict.drop_duplicates().reset_index(drop=True)\n",
    "family_status_dict = family_status_dict.drop_duplicates().reset_index(drop=True)"
   ]
  },
  {
   "cell_type": "code",
   "execution_count": 44,
   "id": "88230852-2dba-4980-ba84-aca5f74f10b1",
   "metadata": {},
   "outputs": [
    {
     "data": {
      "text/html": [
       "<div>\n",
       "<style scoped>\n",
       "    .dataframe tbody tr th:only-of-type {\n",
       "        vertical-align: middle;\n",
       "    }\n",
       "\n",
       "    .dataframe tbody tr th {\n",
       "        vertical-align: top;\n",
       "    }\n",
       "\n",
       "    .dataframe thead th {\n",
       "        text-align: right;\n",
       "    }\n",
       "</style>\n",
       "<table border=\"1\" class=\"dataframe\">\n",
       "  <thead>\n",
       "    <tr style=\"text-align: right;\">\n",
       "      <th></th>\n",
       "      <th>education_level</th>\n",
       "      <th>education_id</th>\n",
       "    </tr>\n",
       "  </thead>\n",
       "  <tbody>\n",
       "    <tr>\n",
       "      <th>0</th>\n",
       "      <td>высшее</td>\n",
       "      <td>0</td>\n",
       "    </tr>\n",
       "    <tr>\n",
       "      <th>1</th>\n",
       "      <td>среднее</td>\n",
       "      <td>1</td>\n",
       "    </tr>\n",
       "    <tr>\n",
       "      <th>2</th>\n",
       "      <td>неоконченное высшее</td>\n",
       "      <td>2</td>\n",
       "    </tr>\n",
       "    <tr>\n",
       "      <th>3</th>\n",
       "      <td>начальное</td>\n",
       "      <td>3</td>\n",
       "    </tr>\n",
       "    <tr>\n",
       "      <th>4</th>\n",
       "      <td>ученая степень</td>\n",
       "      <td>4</td>\n",
       "    </tr>\n",
       "  </tbody>\n",
       "</table>\n",
       "</div>"
      ],
      "text/plain": [
       "       education_level  education_id\n",
       "0               высшее             0\n",
       "1              среднее             1\n",
       "2  неоконченное высшее             2\n",
       "3            начальное             3\n",
       "4       ученая степень             4"
      ]
     },
     "execution_count": 44,
     "metadata": {},
     "output_type": "execute_result"
    }
   ],
   "source": [
    "education_dict"
   ]
  },
  {
   "cell_type": "code",
   "execution_count": 45,
   "id": "cebc8fb4-a29e-4bcf-bab7-87e59af352eb",
   "metadata": {},
   "outputs": [
    {
     "data": {
      "text/html": [
       "<div>\n",
       "<style scoped>\n",
       "    .dataframe tbody tr th:only-of-type {\n",
       "        vertical-align: middle;\n",
       "    }\n",
       "\n",
       "    .dataframe tbody tr th {\n",
       "        vertical-align: top;\n",
       "    }\n",
       "\n",
       "    .dataframe thead th {\n",
       "        text-align: right;\n",
       "    }\n",
       "</style>\n",
       "<table border=\"1\" class=\"dataframe\">\n",
       "  <thead>\n",
       "    <tr style=\"text-align: right;\">\n",
       "      <th></th>\n",
       "      <th>family_status</th>\n",
       "      <th>family_status_id</th>\n",
       "    </tr>\n",
       "  </thead>\n",
       "  <tbody>\n",
       "    <tr>\n",
       "      <th>0</th>\n",
       "      <td>женат / замужем</td>\n",
       "      <td>0</td>\n",
       "    </tr>\n",
       "    <tr>\n",
       "      <th>1</th>\n",
       "      <td>гражданский брак</td>\n",
       "      <td>1</td>\n",
       "    </tr>\n",
       "    <tr>\n",
       "      <th>2</th>\n",
       "      <td>вдовец / вдова</td>\n",
       "      <td>2</td>\n",
       "    </tr>\n",
       "    <tr>\n",
       "      <th>3</th>\n",
       "      <td>в разводе</td>\n",
       "      <td>3</td>\n",
       "    </tr>\n",
       "    <tr>\n",
       "      <th>4</th>\n",
       "      <td>не женат / не замужем</td>\n",
       "      <td>4</td>\n",
       "    </tr>\n",
       "  </tbody>\n",
       "</table>\n",
       "</div>"
      ],
      "text/plain": [
       "           family_status  family_status_id\n",
       "0        женат / замужем                 0\n",
       "1       гражданский брак                 1\n",
       "2         вдовец / вдова                 2\n",
       "3              в разводе                 3\n",
       "4  не женат / не замужем                 4"
      ]
     },
     "execution_count": 45,
     "metadata": {},
     "output_type": "execute_result"
    }
   ],
   "source": [
    "family_status_dict"
   ]
  },
  {
   "cell_type": "markdown",
   "id": "e6824878-3f76-4f29-a32f-78938a90c58e",
   "metadata": {},
   "source": [
    "Удалим из исходного датафрейма столбцы с уровнем образования `education_level` и семейным статусом `family_status`."
   ]
  },
  {
   "cell_type": "code",
   "execution_count": 46,
   "id": "3937e868-0157-42d8-9652-1bfb2e40c192",
   "metadata": {},
   "outputs": [
    {
     "data": {
      "text/html": [
       "<div>\n",
       "<style scoped>\n",
       "    .dataframe tbody tr th:only-of-type {\n",
       "        vertical-align: middle;\n",
       "    }\n",
       "\n",
       "    .dataframe tbody tr th {\n",
       "        vertical-align: top;\n",
       "    }\n",
       "\n",
       "    .dataframe thead th {\n",
       "        text-align: right;\n",
       "    }\n",
       "</style>\n",
       "<table border=\"1\" class=\"dataframe\">\n",
       "  <thead>\n",
       "    <tr style=\"text-align: right;\">\n",
       "      <th></th>\n",
       "      <th>children_count</th>\n",
       "      <th>days_employed</th>\n",
       "      <th>age</th>\n",
       "      <th>education_id</th>\n",
       "      <th>family_status_id</th>\n",
       "      <th>gender</th>\n",
       "      <th>employee_type</th>\n",
       "      <th>debt</th>\n",
       "      <th>monthly_income</th>\n",
       "      <th>purpose</th>\n",
       "      <th>age_frame</th>\n",
       "    </tr>\n",
       "  </thead>\n",
       "  <tbody>\n",
       "    <tr>\n",
       "      <th>0</th>\n",
       "      <td>1</td>\n",
       "      <td>8437</td>\n",
       "      <td>42</td>\n",
       "      <td>0</td>\n",
       "      <td>0</td>\n",
       "      <td>F</td>\n",
       "      <td>сотрудник</td>\n",
       "      <td>0</td>\n",
       "      <td>253875</td>\n",
       "      <td>покупка жилья</td>\n",
       "      <td>от 34 до 43</td>\n",
       "    </tr>\n",
       "    <tr>\n",
       "      <th>1</th>\n",
       "      <td>1</td>\n",
       "      <td>4024</td>\n",
       "      <td>36</td>\n",
       "      <td>1</td>\n",
       "      <td>0</td>\n",
       "      <td>F</td>\n",
       "      <td>сотрудник</td>\n",
       "      <td>0</td>\n",
       "      <td>112080</td>\n",
       "      <td>приобретение автомобиля</td>\n",
       "      <td>от 34 до 43</td>\n",
       "    </tr>\n",
       "    <tr>\n",
       "      <th>2</th>\n",
       "      <td>0</td>\n",
       "      <td>5623</td>\n",
       "      <td>33</td>\n",
       "      <td>1</td>\n",
       "      <td>0</td>\n",
       "      <td>M</td>\n",
       "      <td>сотрудник</td>\n",
       "      <td>0</td>\n",
       "      <td>145885</td>\n",
       "      <td>покупка жилья</td>\n",
       "      <td>до 34</td>\n",
       "    </tr>\n",
       "    <tr>\n",
       "      <th>3</th>\n",
       "      <td>3</td>\n",
       "      <td>4124</td>\n",
       "      <td>32</td>\n",
       "      <td>1</td>\n",
       "      <td>0</td>\n",
       "      <td>M</td>\n",
       "      <td>сотрудник</td>\n",
       "      <td>0</td>\n",
       "      <td>267628</td>\n",
       "      <td>дополнительное образование</td>\n",
       "      <td>до 34</td>\n",
       "    </tr>\n",
       "    <tr>\n",
       "      <th>4</th>\n",
       "      <td>0</td>\n",
       "      <td>340266</td>\n",
       "      <td>53</td>\n",
       "      <td>1</td>\n",
       "      <td>1</td>\n",
       "      <td>F</td>\n",
       "      <td>пенсионер</td>\n",
       "      <td>0</td>\n",
       "      <td>158616</td>\n",
       "      <td>сыграть свадьбу</td>\n",
       "      <td>от 43 до 54</td>\n",
       "    </tr>\n",
       "  </tbody>\n",
       "</table>\n",
       "</div>"
      ],
      "text/plain": [
       "   children_count  days_employed  age  education_id  family_status_id gender  \\\n",
       "0               1           8437   42             0                 0      F   \n",
       "1               1           4024   36             1                 0      F   \n",
       "2               0           5623   33             1                 0      M   \n",
       "3               3           4124   32             1                 0      M   \n",
       "4               0         340266   53             1                 1      F   \n",
       "\n",
       "  employee_type  debt  monthly_income                     purpose    age_frame  \n",
       "0     сотрудник     0          253875               покупка жилья  от 34 до 43  \n",
       "1     сотрудник     0          112080     приобретение автомобиля  от 34 до 43  \n",
       "2     сотрудник     0          145885               покупка жилья        до 34  \n",
       "3     сотрудник     0          267628  дополнительное образование        до 34  \n",
       "4     пенсионер     0          158616             сыграть свадьбу  от 43 до 54  "
      ]
     },
     "execution_count": 46,
     "metadata": {},
     "output_type": "execute_result"
    }
   ],
   "source": [
    "df = df[['children_count', \n",
    "         'days_employed', \n",
    "         'age', \n",
    "         'education_id', \n",
    "         'family_status_id', \n",
    "         'gender', \n",
    "         'employee_type', \n",
    "         'debt', \n",
    "         'monthly_income', \n",
    "         'purpose', \n",
    "         'age_frame']]\n",
    "df.head()"
   ]
  },
  {
   "cell_type": "markdown",
   "id": "ce8ab1a1",
   "metadata": {},
   "source": [
    " [В начало](#intro)."
   ]
  },
  {
   "cell_type": "markdown",
   "id": "2fd70664",
   "metadata": {},
   "source": [
    "## Категоризация дохода."
   ]
  },
  {
   "cell_type": "markdown",
   "id": "ac4d5113-0c46-4a00-b1e9-ad1126a72799",
   "metadata": {},
   "source": [
    "Далее присвоим уровню доходов разные категории.\n",
    "\n",
    "Для этого сначала создадим функцию, которая на входе принимает ежемесячный доход клиентов и в зависимости от уровня такого дохода присваивает ему определенную категорию."
   ]
  },
  {
   "cell_type": "code",
   "execution_count": 47,
   "id": "21f54e54-9d63-4a56-bd16-d1f13413ea77",
   "metadata": {},
   "outputs": [],
   "source": [
    "def set_income_category (data):\n",
    "    try:\n",
    "        if data < 30000:\n",
    "            return 'E'\n",
    "        if data < 50000:\n",
    "            return 'D'\n",
    "        if data < 200000:\n",
    "            return 'C'\n",
    "        if data < 1000000:\n",
    "            return 'B'\n",
    "        return 'A'\n",
    "    except:\n",
    "        print(f\"Значение {data} не попадает ни под одно условие\")"
   ]
  },
  {
   "cell_type": "markdown",
   "id": "a28b0e8b-072d-4ae0-b1e4-fc31e20a2b9f",
   "metadata": {},
   "source": [
    "Далее создадим новый столбец в датафрейме с отнесением доходов клиентов к указанным категориям."
   ]
  },
  {
   "cell_type": "code",
   "execution_count": 48,
   "id": "c3cd7917-5f2e-45b5-b5f0-2cc858a308c4",
   "metadata": {},
   "outputs": [
    {
     "data": {
      "text/html": [
       "<div>\n",
       "<style scoped>\n",
       "    .dataframe tbody tr th:only-of-type {\n",
       "        vertical-align: middle;\n",
       "    }\n",
       "\n",
       "    .dataframe tbody tr th {\n",
       "        vertical-align: top;\n",
       "    }\n",
       "\n",
       "    .dataframe thead th {\n",
       "        text-align: right;\n",
       "    }\n",
       "</style>\n",
       "<table border=\"1\" class=\"dataframe\">\n",
       "  <thead>\n",
       "    <tr style=\"text-align: right;\">\n",
       "      <th></th>\n",
       "      <th>children_count</th>\n",
       "      <th>days_employed</th>\n",
       "      <th>age</th>\n",
       "      <th>education_id</th>\n",
       "      <th>family_status_id</th>\n",
       "      <th>gender</th>\n",
       "      <th>employee_type</th>\n",
       "      <th>debt</th>\n",
       "      <th>monthly_income</th>\n",
       "      <th>purpose</th>\n",
       "      <th>age_frame</th>\n",
       "      <th>monthly_income_category</th>\n",
       "    </tr>\n",
       "  </thead>\n",
       "  <tbody>\n",
       "    <tr>\n",
       "      <th>0</th>\n",
       "      <td>1</td>\n",
       "      <td>8437</td>\n",
       "      <td>42</td>\n",
       "      <td>0</td>\n",
       "      <td>0</td>\n",
       "      <td>F</td>\n",
       "      <td>сотрудник</td>\n",
       "      <td>0</td>\n",
       "      <td>253875</td>\n",
       "      <td>покупка жилья</td>\n",
       "      <td>от 34 до 43</td>\n",
       "      <td>B</td>\n",
       "    </tr>\n",
       "    <tr>\n",
       "      <th>1</th>\n",
       "      <td>1</td>\n",
       "      <td>4024</td>\n",
       "      <td>36</td>\n",
       "      <td>1</td>\n",
       "      <td>0</td>\n",
       "      <td>F</td>\n",
       "      <td>сотрудник</td>\n",
       "      <td>0</td>\n",
       "      <td>112080</td>\n",
       "      <td>приобретение автомобиля</td>\n",
       "      <td>от 34 до 43</td>\n",
       "      <td>C</td>\n",
       "    </tr>\n",
       "    <tr>\n",
       "      <th>2</th>\n",
       "      <td>0</td>\n",
       "      <td>5623</td>\n",
       "      <td>33</td>\n",
       "      <td>1</td>\n",
       "      <td>0</td>\n",
       "      <td>M</td>\n",
       "      <td>сотрудник</td>\n",
       "      <td>0</td>\n",
       "      <td>145885</td>\n",
       "      <td>покупка жилья</td>\n",
       "      <td>до 34</td>\n",
       "      <td>C</td>\n",
       "    </tr>\n",
       "    <tr>\n",
       "      <th>3</th>\n",
       "      <td>3</td>\n",
       "      <td>4124</td>\n",
       "      <td>32</td>\n",
       "      <td>1</td>\n",
       "      <td>0</td>\n",
       "      <td>M</td>\n",
       "      <td>сотрудник</td>\n",
       "      <td>0</td>\n",
       "      <td>267628</td>\n",
       "      <td>дополнительное образование</td>\n",
       "      <td>до 34</td>\n",
       "      <td>B</td>\n",
       "    </tr>\n",
       "    <tr>\n",
       "      <th>4</th>\n",
       "      <td>0</td>\n",
       "      <td>340266</td>\n",
       "      <td>53</td>\n",
       "      <td>1</td>\n",
       "      <td>1</td>\n",
       "      <td>F</td>\n",
       "      <td>пенсионер</td>\n",
       "      <td>0</td>\n",
       "      <td>158616</td>\n",
       "      <td>сыграть свадьбу</td>\n",
       "      <td>от 43 до 54</td>\n",
       "      <td>C</td>\n",
       "    </tr>\n",
       "  </tbody>\n",
       "</table>\n",
       "</div>"
      ],
      "text/plain": [
       "   children_count  days_employed  age  education_id  family_status_id gender  \\\n",
       "0               1           8437   42             0                 0      F   \n",
       "1               1           4024   36             1                 0      F   \n",
       "2               0           5623   33             1                 0      M   \n",
       "3               3           4124   32             1                 0      M   \n",
       "4               0         340266   53             1                 1      F   \n",
       "\n",
       "  employee_type  debt  monthly_income                     purpose  \\\n",
       "0     сотрудник     0          253875               покупка жилья   \n",
       "1     сотрудник     0          112080     приобретение автомобиля   \n",
       "2     сотрудник     0          145885               покупка жилья   \n",
       "3     сотрудник     0          267628  дополнительное образование   \n",
       "4     пенсионер     0          158616             сыграть свадьбу   \n",
       "\n",
       "     age_frame monthly_income_category  \n",
       "0  от 34 до 43                       B  \n",
       "1  от 34 до 43                       C  \n",
       "2        до 34                       C  \n",
       "3        до 34                       B  \n",
       "4  от 43 до 54                       C  "
      ]
     },
     "execution_count": 48,
     "metadata": {},
     "output_type": "execute_result"
    }
   ],
   "source": [
    "df['monthly_income_category'] = df['monthly_income'].apply(set_income_category)\n",
    "df.head()"
   ]
  },
  {
   "cell_type": "markdown",
   "id": "ccd92c9b",
   "metadata": {},
   "source": [
    "[В начало](#intro)."
   ]
  },
  {
   "cell_type": "markdown",
   "id": "5dacda3c",
   "metadata": {},
   "source": [
    "## Категоризация целей кредита."
   ]
  },
  {
   "cell_type": "markdown",
   "id": "c35c4f81-7eeb-4b79-b905-06f00a6eddfd",
   "metadata": {},
   "source": [
    "Создадим функцию, которая на основании данных из столбца `purpose` сформирует новый столбец `purpose_category`, в который войдут следующие категории:\n",
    "- операции с автомобилем;\n",
    "- операции с недвижимостью;\n",
    "- проведение свадьбы;\n",
    "- получение образования.\n",
    "\n",
    "Для этого сначала изучим имеющиеся данные о целях получения кредита."
   ]
  },
  {
   "cell_type": "code",
   "execution_count": 49,
   "id": "2d140987-00f7-445e-b5ce-bb0685af8839",
   "metadata": {},
   "outputs": [
    {
     "data": {
      "text/plain": [
       "свадьба                                   791\n",
       "на проведение свадьбы                     768\n",
       "сыграть свадьбу                           765\n",
       "операции с недвижимостью                  675\n",
       "покупка коммерческой недвижимости         661\n",
       "операции с жильем                         652\n",
       "покупка жилья для сдачи                   651\n",
       "операции с коммерческой недвижимостью     650\n",
       "покупка жилья                             646\n",
       "жилье                                     646\n",
       "покупка жилья для семьи                   638\n",
       "строительство собственной недвижимости    635\n",
       "недвижимость                              633\n",
       "операции со своей недвижимостью           627\n",
       "строительство жилой недвижимости          624\n",
       "покупка недвижимости                      621\n",
       "покупка своего жилья                      620\n",
       "строительство недвижимости                619\n",
       "ремонт жилью                              607\n",
       "покупка жилой недвижимости                606\n",
       "на покупку своего автомобиля              505\n",
       "заняться высшим образованием              496\n",
       "автомобиль                                494\n",
       "сделка с подержанным автомобилем          486\n",
       "свой автомобиль                           478\n",
       "на покупку подержанного автомобиля        478\n",
       "автомобили                                478\n",
       "на покупку автомобиля                     471\n",
       "приобретение автомобиля                   461\n",
       "дополнительное образование                460\n",
       "сделка с автомобилем                      455\n",
       "высшее образование                        452\n",
       "образование                               447\n",
       "получение дополнительного образования     446\n",
       "получение образования                     442\n",
       "профильное образование                    436\n",
       "получение высшего образования             426\n",
       "заняться образованием                     408\n",
       "Name: purpose, dtype: int64"
      ]
     },
     "execution_count": 49,
     "metadata": {},
     "output_type": "execute_result"
    }
   ],
   "source": [
    "df['purpose'].value_counts()"
   ]
  },
  {
   "cell_type": "markdown",
   "id": "f58f4e03-4d63-4a1c-8e51-5c239902a5ef",
   "metadata": {},
   "source": [
    "Создадим функцию, которая на входе принимает имеющиеся цели получения кредита из столбца `purpose` и обобщает их на 4 крупные категории."
   ]
  },
  {
   "cell_type": "code",
   "execution_count": 50,
   "id": "3f562d86-9d4f-4c6e-aae3-65de341aa720",
   "metadata": {
    "tags": []
   },
   "outputs": [],
   "source": [
    "def set_purpose_category (data):\n",
    "    try:\n",
    "        if data == 'на покупку своего автомобиля':\n",
    "            return 'операции с автомобилем'\n",
    "        if data == 'автомобиль':\n",
    "            return 'операции с автомобилем'\n",
    "        if data == 'сделка с подержанным автомобилем':\n",
    "            return 'операции с автомобилем'\n",
    "        if data == 'свой автомобиль':\n",
    "            return 'операции с автомобилем'\n",
    "        if data == 'на покупку подержанного автомобиля':\n",
    "            return 'операции с автомобилем'\n",
    "        if data == 'автомобили':\n",
    "            return 'операции с автомобилем'\n",
    "        if data == 'на покупку автомобиля':\n",
    "            return 'операции с автомобилем'\n",
    "        if data == 'приобретение автомобиля':\n",
    "            return 'операции с автомобилем'\n",
    "        if data == 'сделка с автомобилем':\n",
    "            return 'операции с автомобилем'\n",
    "\n",
    "        if data == 'свадьба':\n",
    "            return 'проведение свадьбы'\n",
    "        if data == 'на проведение свадьбы':\n",
    "            return 'проведение свадьбы'\n",
    "        if data == 'сыграть свадьбу':\n",
    "            return 'проведение свадьбы'\n",
    "\n",
    "        if data == 'заняться высшим образованием':\n",
    "            return 'получение образования'\n",
    "        if data == 'дополнительное образование':\n",
    "            return 'получение образования'\n",
    "        if data == 'высшее образование':\n",
    "            return 'получение образования'\n",
    "        if data == 'образование':\n",
    "            return 'получение образования'\n",
    "        if data == 'получение дополнительного образования':\n",
    "            return 'получение образования'\n",
    "        if data == 'получение образования':\n",
    "            return 'получение образования'\n",
    "        if data == 'профильное образование':\n",
    "            return 'получение образования'\n",
    "        if data == 'получение высшего образования':\n",
    "            return 'получение образования'\n",
    "        if data == 'заняться образованием':\n",
    "            return 'получение образования'\n",
    "        return 'операции с недвижимостью'\n",
    "    except:\n",
    "        print(f\"Значение {data} не попадает ни под одно условие\")"
   ]
  },
  {
   "cell_type": "markdown",
   "id": "8be5c261-ed63-49a1-9a3d-2eb554df4c08",
   "metadata": {},
   "source": [
    "Создадим столбец `purpose_category` и заполним его нашей функцией."
   ]
  },
  {
   "cell_type": "code",
   "execution_count": 51,
   "id": "4d187f20-b3f0-40d1-aebf-2f8db59140e7",
   "metadata": {},
   "outputs": [
    {
     "data": {
      "text/html": [
       "<div>\n",
       "<style scoped>\n",
       "    .dataframe tbody tr th:only-of-type {\n",
       "        vertical-align: middle;\n",
       "    }\n",
       "\n",
       "    .dataframe tbody tr th {\n",
       "        vertical-align: top;\n",
       "    }\n",
       "\n",
       "    .dataframe thead th {\n",
       "        text-align: right;\n",
       "    }\n",
       "</style>\n",
       "<table border=\"1\" class=\"dataframe\">\n",
       "  <thead>\n",
       "    <tr style=\"text-align: right;\">\n",
       "      <th></th>\n",
       "      <th>children_count</th>\n",
       "      <th>days_employed</th>\n",
       "      <th>age</th>\n",
       "      <th>education_id</th>\n",
       "      <th>family_status_id</th>\n",
       "      <th>gender</th>\n",
       "      <th>employee_type</th>\n",
       "      <th>debt</th>\n",
       "      <th>monthly_income</th>\n",
       "      <th>purpose</th>\n",
       "      <th>age_frame</th>\n",
       "      <th>monthly_income_category</th>\n",
       "      <th>purpose_category</th>\n",
       "    </tr>\n",
       "  </thead>\n",
       "  <tbody>\n",
       "    <tr>\n",
       "      <th>0</th>\n",
       "      <td>1</td>\n",
       "      <td>8437</td>\n",
       "      <td>42</td>\n",
       "      <td>0</td>\n",
       "      <td>0</td>\n",
       "      <td>F</td>\n",
       "      <td>сотрудник</td>\n",
       "      <td>0</td>\n",
       "      <td>253875</td>\n",
       "      <td>покупка жилья</td>\n",
       "      <td>от 34 до 43</td>\n",
       "      <td>B</td>\n",
       "      <td>операции с недвижимостью</td>\n",
       "    </tr>\n",
       "    <tr>\n",
       "      <th>1</th>\n",
       "      <td>1</td>\n",
       "      <td>4024</td>\n",
       "      <td>36</td>\n",
       "      <td>1</td>\n",
       "      <td>0</td>\n",
       "      <td>F</td>\n",
       "      <td>сотрудник</td>\n",
       "      <td>0</td>\n",
       "      <td>112080</td>\n",
       "      <td>приобретение автомобиля</td>\n",
       "      <td>от 34 до 43</td>\n",
       "      <td>C</td>\n",
       "      <td>операции с автомобилем</td>\n",
       "    </tr>\n",
       "    <tr>\n",
       "      <th>2</th>\n",
       "      <td>0</td>\n",
       "      <td>5623</td>\n",
       "      <td>33</td>\n",
       "      <td>1</td>\n",
       "      <td>0</td>\n",
       "      <td>M</td>\n",
       "      <td>сотрудник</td>\n",
       "      <td>0</td>\n",
       "      <td>145885</td>\n",
       "      <td>покупка жилья</td>\n",
       "      <td>до 34</td>\n",
       "      <td>C</td>\n",
       "      <td>операции с недвижимостью</td>\n",
       "    </tr>\n",
       "    <tr>\n",
       "      <th>3</th>\n",
       "      <td>3</td>\n",
       "      <td>4124</td>\n",
       "      <td>32</td>\n",
       "      <td>1</td>\n",
       "      <td>0</td>\n",
       "      <td>M</td>\n",
       "      <td>сотрудник</td>\n",
       "      <td>0</td>\n",
       "      <td>267628</td>\n",
       "      <td>дополнительное образование</td>\n",
       "      <td>до 34</td>\n",
       "      <td>B</td>\n",
       "      <td>получение образования</td>\n",
       "    </tr>\n",
       "    <tr>\n",
       "      <th>4</th>\n",
       "      <td>0</td>\n",
       "      <td>340266</td>\n",
       "      <td>53</td>\n",
       "      <td>1</td>\n",
       "      <td>1</td>\n",
       "      <td>F</td>\n",
       "      <td>пенсионер</td>\n",
       "      <td>0</td>\n",
       "      <td>158616</td>\n",
       "      <td>сыграть свадьбу</td>\n",
       "      <td>от 43 до 54</td>\n",
       "      <td>C</td>\n",
       "      <td>проведение свадьбы</td>\n",
       "    </tr>\n",
       "  </tbody>\n",
       "</table>\n",
       "</div>"
      ],
      "text/plain": [
       "   children_count  days_employed  age  education_id  family_status_id gender  \\\n",
       "0               1           8437   42             0                 0      F   \n",
       "1               1           4024   36             1                 0      F   \n",
       "2               0           5623   33             1                 0      M   \n",
       "3               3           4124   32             1                 0      M   \n",
       "4               0         340266   53             1                 1      F   \n",
       "\n",
       "  employee_type  debt  monthly_income                     purpose  \\\n",
       "0     сотрудник     0          253875               покупка жилья   \n",
       "1     сотрудник     0          112080     приобретение автомобиля   \n",
       "2     сотрудник     0          145885               покупка жилья   \n",
       "3     сотрудник     0          267628  дополнительное образование   \n",
       "4     пенсионер     0          158616             сыграть свадьбу   \n",
       "\n",
       "     age_frame monthly_income_category          purpose_category  \n",
       "0  от 34 до 43                       B  операции с недвижимостью  \n",
       "1  от 34 до 43                       C    операции с автомобилем  \n",
       "2        до 34                       C  операции с недвижимостью  \n",
       "3        до 34                       B     получение образования  \n",
       "4  от 43 до 54                       C        проведение свадьбы  "
      ]
     },
     "execution_count": 51,
     "metadata": {},
     "output_type": "execute_result"
    }
   ],
   "source": [
    "df['purpose_category'] = df['purpose'].apply(set_purpose_category)\n",
    "df.head()"
   ]
  },
  {
   "cell_type": "markdown",
   "id": "c1fbbdaf",
   "metadata": {},
   "source": [
    "[В начало](#intro)."
   ]
  },
  {
   "cell_type": "markdown",
   "id": "6c48aaf3-c67e-47a3-a17c-b12f0c101b84",
   "metadata": {},
   "source": [
    "## Категоризация по количеству детей"
   ]
  },
  {
   "cell_type": "markdown",
   "id": "c1a27f0d-e016-4348-80a1-71110b6e3ae6",
   "metadata": {},
   "source": [
    "Также установим категории в зависимости от количества детей у клиентов.\n",
    "\n",
    "Создадим функцию, которая на входе принимает информацию о количестве детей у клиента и возвращает категорию."
   ]
  },
  {
   "cell_type": "code",
   "execution_count": 52,
   "id": "607c9f3e-ad6c-4004-bce9-320751aea6da",
   "metadata": {},
   "outputs": [],
   "source": [
    "def set_children_category(data):\n",
    "    try:\n",
    "        if data == 0:\n",
    "            return 'нет детей'\n",
    "        if data == 1:\n",
    "            return '1 ребенок'\n",
    "        if data == 2:\n",
    "            return '2 ребенка'\n",
    "        return 'много детей'\n",
    "    except:\n",
    "        print(f\"Значение {data} не попадает ни под одно условие\")"
   ]
  },
  {
   "cell_type": "code",
   "execution_count": 53,
   "id": "1b55f36a-9633-4a83-856d-ba46744cad23",
   "metadata": {},
   "outputs": [
    {
     "data": {
      "text/html": [
       "<div>\n",
       "<style scoped>\n",
       "    .dataframe tbody tr th:only-of-type {\n",
       "        vertical-align: middle;\n",
       "    }\n",
       "\n",
       "    .dataframe tbody tr th {\n",
       "        vertical-align: top;\n",
       "    }\n",
       "\n",
       "    .dataframe thead th {\n",
       "        text-align: right;\n",
       "    }\n",
       "</style>\n",
       "<table border=\"1\" class=\"dataframe\">\n",
       "  <thead>\n",
       "    <tr style=\"text-align: right;\">\n",
       "      <th></th>\n",
       "      <th>children_count</th>\n",
       "      <th>days_employed</th>\n",
       "      <th>age</th>\n",
       "      <th>education_id</th>\n",
       "      <th>family_status_id</th>\n",
       "      <th>gender</th>\n",
       "      <th>employee_type</th>\n",
       "      <th>debt</th>\n",
       "      <th>monthly_income</th>\n",
       "      <th>purpose</th>\n",
       "      <th>age_frame</th>\n",
       "      <th>monthly_income_category</th>\n",
       "      <th>purpose_category</th>\n",
       "      <th>children_category</th>\n",
       "    </tr>\n",
       "  </thead>\n",
       "  <tbody>\n",
       "    <tr>\n",
       "      <th>0</th>\n",
       "      <td>1</td>\n",
       "      <td>8437</td>\n",
       "      <td>42</td>\n",
       "      <td>0</td>\n",
       "      <td>0</td>\n",
       "      <td>F</td>\n",
       "      <td>сотрудник</td>\n",
       "      <td>0</td>\n",
       "      <td>253875</td>\n",
       "      <td>покупка жилья</td>\n",
       "      <td>от 34 до 43</td>\n",
       "      <td>B</td>\n",
       "      <td>операции с недвижимостью</td>\n",
       "      <td>1 ребенок</td>\n",
       "    </tr>\n",
       "    <tr>\n",
       "      <th>1</th>\n",
       "      <td>1</td>\n",
       "      <td>4024</td>\n",
       "      <td>36</td>\n",
       "      <td>1</td>\n",
       "      <td>0</td>\n",
       "      <td>F</td>\n",
       "      <td>сотрудник</td>\n",
       "      <td>0</td>\n",
       "      <td>112080</td>\n",
       "      <td>приобретение автомобиля</td>\n",
       "      <td>от 34 до 43</td>\n",
       "      <td>C</td>\n",
       "      <td>операции с автомобилем</td>\n",
       "      <td>1 ребенок</td>\n",
       "    </tr>\n",
       "    <tr>\n",
       "      <th>2</th>\n",
       "      <td>0</td>\n",
       "      <td>5623</td>\n",
       "      <td>33</td>\n",
       "      <td>1</td>\n",
       "      <td>0</td>\n",
       "      <td>M</td>\n",
       "      <td>сотрудник</td>\n",
       "      <td>0</td>\n",
       "      <td>145885</td>\n",
       "      <td>покупка жилья</td>\n",
       "      <td>до 34</td>\n",
       "      <td>C</td>\n",
       "      <td>операции с недвижимостью</td>\n",
       "      <td>нет детей</td>\n",
       "    </tr>\n",
       "    <tr>\n",
       "      <th>3</th>\n",
       "      <td>3</td>\n",
       "      <td>4124</td>\n",
       "      <td>32</td>\n",
       "      <td>1</td>\n",
       "      <td>0</td>\n",
       "      <td>M</td>\n",
       "      <td>сотрудник</td>\n",
       "      <td>0</td>\n",
       "      <td>267628</td>\n",
       "      <td>дополнительное образование</td>\n",
       "      <td>до 34</td>\n",
       "      <td>B</td>\n",
       "      <td>получение образования</td>\n",
       "      <td>много детей</td>\n",
       "    </tr>\n",
       "    <tr>\n",
       "      <th>4</th>\n",
       "      <td>0</td>\n",
       "      <td>340266</td>\n",
       "      <td>53</td>\n",
       "      <td>1</td>\n",
       "      <td>1</td>\n",
       "      <td>F</td>\n",
       "      <td>пенсионер</td>\n",
       "      <td>0</td>\n",
       "      <td>158616</td>\n",
       "      <td>сыграть свадьбу</td>\n",
       "      <td>от 43 до 54</td>\n",
       "      <td>C</td>\n",
       "      <td>проведение свадьбы</td>\n",
       "      <td>нет детей</td>\n",
       "    </tr>\n",
       "  </tbody>\n",
       "</table>\n",
       "</div>"
      ],
      "text/plain": [
       "   children_count  days_employed  age  education_id  family_status_id gender  \\\n",
       "0               1           8437   42             0                 0      F   \n",
       "1               1           4024   36             1                 0      F   \n",
       "2               0           5623   33             1                 0      M   \n",
       "3               3           4124   32             1                 0      M   \n",
       "4               0         340266   53             1                 1      F   \n",
       "\n",
       "  employee_type  debt  monthly_income                     purpose  \\\n",
       "0     сотрудник     0          253875               покупка жилья   \n",
       "1     сотрудник     0          112080     приобретение автомобиля   \n",
       "2     сотрудник     0          145885               покупка жилья   \n",
       "3     сотрудник     0          267628  дополнительное образование   \n",
       "4     пенсионер     0          158616             сыграть свадьбу   \n",
       "\n",
       "     age_frame monthly_income_category          purpose_category  \\\n",
       "0  от 34 до 43                       B  операции с недвижимостью   \n",
       "1  от 34 до 43                       C    операции с автомобилем   \n",
       "2        до 34                       C  операции с недвижимостью   \n",
       "3        до 34                       B     получение образования   \n",
       "4  от 43 до 54                       C        проведение свадьбы   \n",
       "\n",
       "  children_category  \n",
       "0         1 ребенок  \n",
       "1         1 ребенок  \n",
       "2         нет детей  \n",
       "3       много детей  \n",
       "4         нет детей  "
      ]
     },
     "execution_count": 53,
     "metadata": {},
     "output_type": "execute_result"
    }
   ],
   "source": [
    "df['children_category'] = df['children_count'].apply(set_children_category)\n",
    "df.head()"
   ]
  },
  {
   "cell_type": "markdown",
   "id": "ecb29db7",
   "metadata": {},
   "source": [
    "[В начало](#intro)."
   ]
  },
  {
   "cell_type": "markdown",
   "id": "bb841749",
   "metadata": {},
   "source": [
    "## Ответы на вопросы."
   ]
  },
  {
   "cell_type": "markdown",
   "id": "91e853a3",
   "metadata": {},
   "source": [
    "### Вопрос 1: Есть ли зависимость между количеством детей и возвратом кредита в срок?"
   ]
  },
  {
   "cell_type": "markdown",
   "id": "21590fd0-a9ea-4f9a-9fd8-89e13515a30a",
   "metadata": {},
   "source": [
    "Создадим функцию, которая будет принимать на входе столбец с количественными данными и будет возращать долю количественных данных в столбце, функция прогодится для проверки всех гипотез."
   ]
  },
  {
   "cell_type": "code",
   "execution_count": 54,
   "id": "5d298bd6-f6f7-4d2b-9680-fcd6e5c371c8",
   "metadata": {},
   "outputs": [],
   "source": [
    "def make_proportion(data):\n",
    "    return str(round((data.sum() / data.count()) * 100, 2)) + '%'"
   ]
  },
  {
   "cell_type": "markdown",
   "id": "c595477c-f821-4586-b72b-26913498eb8a",
   "metadata": {},
   "source": [
    "Создадим сводную таблицу в которой сгруппируем данные по количеству детей, найдем сумму ячеек с долгами и общее количество клиентов с числом детей от 0 до 5, а также найдем долю клиентов с количеством детей от 0 до 5 имеющих долги."
   ]
  },
  {
   "cell_type": "code",
   "execution_count": 55,
   "id": "a3f76ca2-98d7-4820-853f-896fae9d2567",
   "metadata": {},
   "outputs": [
    {
     "data": {
      "text/html": [
       "<div>\n",
       "<style scoped>\n",
       "    .dataframe tbody tr th:only-of-type {\n",
       "        vertical-align: middle;\n",
       "    }\n",
       "\n",
       "    .dataframe tbody tr th {\n",
       "        vertical-align: top;\n",
       "    }\n",
       "\n",
       "    .dataframe thead tr th {\n",
       "        text-align: left;\n",
       "    }\n",
       "\n",
       "    .dataframe thead tr:last-of-type th {\n",
       "        text-align: right;\n",
       "    }\n",
       "</style>\n",
       "<table border=\"1\" class=\"dataframe\">\n",
       "  <thead>\n",
       "    <tr>\n",
       "      <th></th>\n",
       "      <th>sum</th>\n",
       "      <th>count</th>\n",
       "      <th>make_proportion</th>\n",
       "    </tr>\n",
       "    <tr>\n",
       "      <th></th>\n",
       "      <th>debt</th>\n",
       "      <th>debt</th>\n",
       "      <th>debt</th>\n",
       "    </tr>\n",
       "    <tr>\n",
       "      <th>children_category</th>\n",
       "      <th></th>\n",
       "      <th></th>\n",
       "      <th></th>\n",
       "    </tr>\n",
       "  </thead>\n",
       "  <tbody>\n",
       "    <tr>\n",
       "      <th>нет детей</th>\n",
       "      <td>1063</td>\n",
       "      <td>14091</td>\n",
       "      <td>7.54%</td>\n",
       "    </tr>\n",
       "    <tr>\n",
       "      <th>много детей</th>\n",
       "      <td>31</td>\n",
       "      <td>380</td>\n",
       "      <td>8.16%</td>\n",
       "    </tr>\n",
       "    <tr>\n",
       "      <th>1 ребенок</th>\n",
       "      <td>445</td>\n",
       "      <td>4855</td>\n",
       "      <td>9.17%</td>\n",
       "    </tr>\n",
       "    <tr>\n",
       "      <th>2 ребенка</th>\n",
       "      <td>202</td>\n",
       "      <td>2128</td>\n",
       "      <td>9.49%</td>\n",
       "    </tr>\n",
       "  </tbody>\n",
       "</table>\n",
       "</div>"
      ],
      "text/plain": [
       "                    sum  count make_proportion\n",
       "                   debt   debt            debt\n",
       "children_category                             \n",
       "нет детей          1063  14091           7.54%\n",
       "много детей          31    380           8.16%\n",
       "1 ребенок           445   4855           9.17%\n",
       "2 ребенка           202   2128           9.49%"
      ]
     },
     "execution_count": 55,
     "metadata": {},
     "output_type": "execute_result"
    }
   ],
   "source": [
    "data_pivot = df.pivot_table(index='children_category', values='debt', aggfunc=['sum', 'count', make_proportion])\n",
    "data_pivot = data_pivot.sort_values(by=('make_proportion', 'debt'))\n",
    "data_pivot"
   ]
  },
  {
   "cell_type": "markdown",
   "id": "8209751b",
   "metadata": {},
   "source": [
    "### Вывод 1:\n",
    "\n",
    "Данные показывают, что чем больше детей, тем выше вероятность возникновения задолженности клиентов. Однако, разница в вероятностях возникновения задолженности для клиентов с числом детей от 0 до 5 не такая большая. Полезной информацией в ответе на данный вопрос послужило бы наличие данных о сумме выданных кредитов, но, к сожалению, данная информация отсутствует.\n",
    "\n",
    "[В начало](#intro)."
   ]
  },
  {
   "cell_type": "markdown",
   "id": "241b9652-b90f-45d2-a613-adf30ce879b4",
   "metadata": {},
   "source": [
    "### Вопрос 2: Есть ли зависимость между семейным положением и возвратом кредита в срок?"
   ]
  },
  {
   "cell_type": "markdown",
   "id": "e8ed7597-af08-4c12-aa52-1a85cdf1bd7f",
   "metadata": {},
   "source": [
    "Вернем в новый датафрейм ранее удаленные расшифровки семейных статусов."
   ]
  },
  {
   "cell_type": "code",
   "execution_count": 56,
   "id": "f5477a56-b2d7-4fe5-b499-a2b5dbf60d4a",
   "metadata": {},
   "outputs": [],
   "source": [
    "df_with_family_status = df.merge(family_status_dict, on='family_status_id', how='left')"
   ]
  },
  {
   "cell_type": "markdown",
   "id": "8c78a747-002f-4df3-90b6-2e6f6c0dcb63",
   "metadata": {},
   "source": [
    "Создадим сводную таблицу, в которой сгруппируем данные по семейному статусу, найдем сумму ячеек с долгами и общее количество клиентов с числом детей от 0 до 5, а также найдем долю клиентов с количеством детей от 0 до 5 имеющих долги."
   ]
  },
  {
   "cell_type": "code",
   "execution_count": 57,
   "id": "8100137c-ceea-4cfc-9f54-adfdf0bff528",
   "metadata": {},
   "outputs": [
    {
     "data": {
      "text/html": [
       "<div>\n",
       "<style scoped>\n",
       "    .dataframe tbody tr th:only-of-type {\n",
       "        vertical-align: middle;\n",
       "    }\n",
       "\n",
       "    .dataframe tbody tr th {\n",
       "        vertical-align: top;\n",
       "    }\n",
       "\n",
       "    .dataframe thead tr th {\n",
       "        text-align: left;\n",
       "    }\n",
       "\n",
       "    .dataframe thead tr:last-of-type th {\n",
       "        text-align: right;\n",
       "    }\n",
       "</style>\n",
       "<table border=\"1\" class=\"dataframe\">\n",
       "  <thead>\n",
       "    <tr>\n",
       "      <th></th>\n",
       "      <th>sum</th>\n",
       "      <th>count</th>\n",
       "      <th>make_proportion</th>\n",
       "    </tr>\n",
       "    <tr>\n",
       "      <th></th>\n",
       "      <th>debt</th>\n",
       "      <th>debt</th>\n",
       "      <th>debt</th>\n",
       "    </tr>\n",
       "    <tr>\n",
       "      <th>family_status</th>\n",
       "      <th></th>\n",
       "      <th></th>\n",
       "      <th></th>\n",
       "    </tr>\n",
       "  </thead>\n",
       "  <tbody>\n",
       "    <tr>\n",
       "      <th>вдовец / вдова</th>\n",
       "      <td>63</td>\n",
       "      <td>959</td>\n",
       "      <td>6.57%</td>\n",
       "    </tr>\n",
       "    <tr>\n",
       "      <th>в разводе</th>\n",
       "      <td>85</td>\n",
       "      <td>1195</td>\n",
       "      <td>7.11%</td>\n",
       "    </tr>\n",
       "    <tr>\n",
       "      <th>женат / замужем</th>\n",
       "      <td>931</td>\n",
       "      <td>12339</td>\n",
       "      <td>7.55%</td>\n",
       "    </tr>\n",
       "    <tr>\n",
       "      <th>гражданский брак</th>\n",
       "      <td>388</td>\n",
       "      <td>4151</td>\n",
       "      <td>9.35%</td>\n",
       "    </tr>\n",
       "    <tr>\n",
       "      <th>не женат / не замужем</th>\n",
       "      <td>274</td>\n",
       "      <td>2810</td>\n",
       "      <td>9.75%</td>\n",
       "    </tr>\n",
       "  </tbody>\n",
       "</table>\n",
       "</div>"
      ],
      "text/plain": [
       "                       sum  count make_proportion\n",
       "                      debt   debt            debt\n",
       "family_status                                    \n",
       "вдовец / вдова          63    959           6.57%\n",
       "в разводе               85   1195           7.11%\n",
       "женат / замужем        931  12339           7.55%\n",
       "гражданский брак       388   4151           9.35%\n",
       "не женат / не замужем  274   2810           9.75%"
      ]
     },
     "execution_count": 57,
     "metadata": {},
     "output_type": "execute_result"
    }
   ],
   "source": [
    "data_pivot = df_with_family_status.pivot_table(index='family_status', values='debt', aggfunc=['sum', 'count', make_proportion])\n",
    "data_pivot = data_pivot.sort_values(by=('make_proportion', 'debt'))\n",
    "data_pivot"
   ]
  },
  {
   "cell_type": "markdown",
   "id": "2749131a-bd8c-4872-ad5c-95f4caffe3b0",
   "metadata": {},
   "source": [
    "Любопытным является факт, что люди с семейными статусами **вдовец / вдова** и **в разводе** менее всего подвержены риску возникновения задолженности. В то же время люди с семейными статусами **не женат / не замужем** и **гражданский брак** более всего подвержены риску возникновения задолженности по кредиту. Переходным семейным статусом является **женат / замужем**, клиенты с таким статусом больше подвержены риску возникновения задолженности, чем клиенты с семейными статусами **вдовец / вдова** и **в разводе**, но меньше клиентов с семейными статусами **не женат / не замужем**.\n",
    "\n",
    "Возможно, это связано с тем, что большинство клиентов с семейными статусами  **вдовец / вдова** и **в разводе** старше большинства клиентов с семейными статусами **не женат / не замужем** и **гражданский брак** и уже реализовались в жизни и не имеют проблем с доходом.\n",
    "\n",
    "Проверим выдвинутое утверждение. Для этого рассмотрим сначала распределение клиенов по семейным статусам в зависимости от возрастной категории."
   ]
  },
  {
   "cell_type": "code",
   "execution_count": 58,
   "id": "c3f57280-230a-4c47-b95f-e6247bc47d4a",
   "metadata": {},
   "outputs": [
    {
     "data": {
      "text/html": [
       "<div>\n",
       "<style scoped>\n",
       "    .dataframe tbody tr th:only-of-type {\n",
       "        vertical-align: middle;\n",
       "    }\n",
       "\n",
       "    .dataframe tbody tr th {\n",
       "        vertical-align: top;\n",
       "    }\n",
       "\n",
       "    .dataframe thead tr th {\n",
       "        text-align: left;\n",
       "    }\n",
       "\n",
       "    .dataframe thead tr:last-of-type th {\n",
       "        text-align: right;\n",
       "    }\n",
       "</style>\n",
       "<table border=\"1\" class=\"dataframe\">\n",
       "  <thead>\n",
       "    <tr>\n",
       "      <th></th>\n",
       "      <th colspan=\"4\" halign=\"left\">count</th>\n",
       "    </tr>\n",
       "    <tr>\n",
       "      <th>age_frame</th>\n",
       "      <th>до 34</th>\n",
       "      <th>от 34 до 43</th>\n",
       "      <th>от 43 до 54</th>\n",
       "      <th>свыше 54</th>\n",
       "    </tr>\n",
       "    <tr>\n",
       "      <th>family_status</th>\n",
       "      <th></th>\n",
       "      <th></th>\n",
       "      <th></th>\n",
       "      <th></th>\n",
       "    </tr>\n",
       "  </thead>\n",
       "  <tbody>\n",
       "    <tr>\n",
       "      <th>в разводе</th>\n",
       "      <td>177</td>\n",
       "      <td>306</td>\n",
       "      <td>379</td>\n",
       "      <td>333</td>\n",
       "    </tr>\n",
       "    <tr>\n",
       "      <th>не женат / не замужем</th>\n",
       "      <td>1249</td>\n",
       "      <td>561</td>\n",
       "      <td>523</td>\n",
       "      <td>477</td>\n",
       "    </tr>\n",
       "    <tr>\n",
       "      <th>вдовец / вдова</th>\n",
       "      <td>13</td>\n",
       "      <td>64</td>\n",
       "      <td>204</td>\n",
       "      <td>678</td>\n",
       "    </tr>\n",
       "    <tr>\n",
       "      <th>гражданский брак</th>\n",
       "      <td>1123</td>\n",
       "      <td>1117</td>\n",
       "      <td>1040</td>\n",
       "      <td>871</td>\n",
       "    </tr>\n",
       "    <tr>\n",
       "      <th>женат / замужем</th>\n",
       "      <td>2804</td>\n",
       "      <td>3317</td>\n",
       "      <td>3302</td>\n",
       "      <td>2916</td>\n",
       "    </tr>\n",
       "  </tbody>\n",
       "</table>\n",
       "</div>"
      ],
      "text/plain": [
       "                      count                                 \n",
       "age_frame             до 34 от 34 до 43 от 43 до 54 свыше 54\n",
       "family_status                                               \n",
       "в разводе               177         306         379      333\n",
       "не женат / не замужем  1249         561         523      477\n",
       "вдовец / вдова           13          64         204      678\n",
       "гражданский брак       1123        1117        1040      871\n",
       "женат / замужем        2804        3317        3302     2916"
      ]
     },
     "execution_count": 58,
     "metadata": {},
     "output_type": "execute_result"
    }
   ],
   "source": [
    "data_pivot = df_with_family_status.pivot_table(index='family_status', columns='age_frame', values='purpose', aggfunc=['count'])\n",
    "data_pivot = data_pivot.sort_values(by=('count', 'свыше 54'))\n",
    "data_pivot"
   ]
  },
  {
   "cell_type": "markdown",
   "id": "65d04ff6-4d9a-457a-bca7-ff5a0ea6d455",
   "metadata": {},
   "source": [
    "Данные показывают, что среди клиентов банка с семейными статусами **вдовец / вдова** и **в разводе** высокая доля тех, кому от 43 до 54 и тех, кому свыше 54, в тоже время среди клиентов банка с семейными статусами **не женат / не замужем** и **гражданский брак** доля тех, кому до 34 больше, чем остальных клиентов.\n",
    "\n",
    "Далее проверим средний уровень дохода среди разных возрастных категорий клиентов банка, сгруппированные по семейным статусам."
   ]
  },
  {
   "cell_type": "code",
   "execution_count": 59,
   "id": "ab626ffe-1491-4766-a3d8-c96d6c94cbed",
   "metadata": {},
   "outputs": [
    {
     "data": {
      "text/html": [
       "<div>\n",
       "<style scoped>\n",
       "    .dataframe tbody tr th:only-of-type {\n",
       "        vertical-align: middle;\n",
       "    }\n",
       "\n",
       "    .dataframe tbody tr th {\n",
       "        vertical-align: top;\n",
       "    }\n",
       "\n",
       "    .dataframe thead tr th {\n",
       "        text-align: left;\n",
       "    }\n",
       "\n",
       "    .dataframe thead tr:last-of-type th {\n",
       "        text-align: right;\n",
       "    }\n",
       "</style>\n",
       "<table border=\"1\" class=\"dataframe\">\n",
       "  <thead>\n",
       "    <tr>\n",
       "      <th></th>\n",
       "      <th></th>\n",
       "      <th>mean</th>\n",
       "    </tr>\n",
       "    <tr>\n",
       "      <th></th>\n",
       "      <th></th>\n",
       "      <th>monthly_income</th>\n",
       "    </tr>\n",
       "    <tr>\n",
       "      <th>family_status</th>\n",
       "      <th>age_frame</th>\n",
       "      <th></th>\n",
       "    </tr>\n",
       "  </thead>\n",
       "  <tbody>\n",
       "    <tr>\n",
       "      <th>не женат / не замужем</th>\n",
       "      <th>от 43 до 54</th>\n",
       "      <td>180512.692161</td>\n",
       "    </tr>\n",
       "    <tr>\n",
       "      <th>в разводе</th>\n",
       "      <th>от 34 до 43</th>\n",
       "      <td>180423.934641</td>\n",
       "    </tr>\n",
       "    <tr>\n",
       "      <th>женат / замужем</th>\n",
       "      <th>от 34 до 43</th>\n",
       "      <td>177032.721435</td>\n",
       "    </tr>\n",
       "    <tr>\n",
       "      <th>гражданский брак</th>\n",
       "      <th>от 34 до 43</th>\n",
       "      <td>174591.604297</td>\n",
       "    </tr>\n",
       "    <tr>\n",
       "      <th>не женат / не замужем</th>\n",
       "      <th>от 34 до 43</th>\n",
       "      <td>173257.850267</td>\n",
       "    </tr>\n",
       "    <tr>\n",
       "      <th>женат / замужем</th>\n",
       "      <th>от 43 до 54</th>\n",
       "      <td>172754.919140</td>\n",
       "    </tr>\n",
       "    <tr>\n",
       "      <th>гражданский брак</th>\n",
       "      <th>от 43 до 54</th>\n",
       "      <td>171623.405769</td>\n",
       "    </tr>\n",
       "    <tr>\n",
       "      <th>вдовец / вдова</th>\n",
       "      <th>до 34</th>\n",
       "      <td>168119.384615</td>\n",
       "    </tr>\n",
       "    <tr>\n",
       "      <th>в разводе</th>\n",
       "      <th>от 43 до 54</th>\n",
       "      <td>166033.820580</td>\n",
       "    </tr>\n",
       "    <tr>\n",
       "      <th>женат / замужем</th>\n",
       "      <th>до 34</th>\n",
       "      <td>164994.323823</td>\n",
       "    </tr>\n",
       "    <tr>\n",
       "      <th>в разводе</th>\n",
       "      <th>до 34</th>\n",
       "      <td>163990.638418</td>\n",
       "    </tr>\n",
       "    <tr>\n",
       "      <th>гражданский брак</th>\n",
       "      <th>до 34</th>\n",
       "      <td>163412.720392</td>\n",
       "    </tr>\n",
       "    <tr>\n",
       "      <th>не женат / не замужем</th>\n",
       "      <th>до 34</th>\n",
       "      <td>162758.728583</td>\n",
       "    </tr>\n",
       "    <tr>\n",
       "      <th>вдовец / вдова</th>\n",
       "      <th>от 34 до 43</th>\n",
       "      <td>160506.500000</td>\n",
       "    </tr>\n",
       "    <tr>\n",
       "      <th>в разводе</th>\n",
       "      <th>свыше 54</th>\n",
       "      <td>159885.210210</td>\n",
       "    </tr>\n",
       "    <tr>\n",
       "      <th>не женат / не замужем</th>\n",
       "      <th>свыше 54</th>\n",
       "      <td>151958.283019</td>\n",
       "    </tr>\n",
       "    <tr>\n",
       "      <th>женат / замужем</th>\n",
       "      <th>свыше 54</th>\n",
       "      <td>150159.215706</td>\n",
       "    </tr>\n",
       "    <tr>\n",
       "      <th>вдовец / вдова</th>\n",
       "      <th>от 43 до 54</th>\n",
       "      <td>147723.269608</td>\n",
       "    </tr>\n",
       "    <tr>\n",
       "      <th>гражданский брак</th>\n",
       "      <th>свыше 54</th>\n",
       "      <td>145877.464983</td>\n",
       "    </tr>\n",
       "    <tr>\n",
       "      <th>вдовец / вдова</th>\n",
       "      <th>свыше 54</th>\n",
       "      <td>138865.525074</td>\n",
       "    </tr>\n",
       "  </tbody>\n",
       "</table>\n",
       "</div>"
      ],
      "text/plain": [
       "                                            mean\n",
       "                                  monthly_income\n",
       "family_status         age_frame                 \n",
       "не женат / не замужем от 43 до 54  180512.692161\n",
       "в разводе             от 34 до 43  180423.934641\n",
       "женат / замужем       от 34 до 43  177032.721435\n",
       "гражданский брак      от 34 до 43  174591.604297\n",
       "не женат / не замужем от 34 до 43  173257.850267\n",
       "женат / замужем       от 43 до 54  172754.919140\n",
       "гражданский брак      от 43 до 54  171623.405769\n",
       "вдовец / вдова        до 34        168119.384615\n",
       "в разводе             от 43 до 54  166033.820580\n",
       "женат / замужем       до 34        164994.323823\n",
       "в разводе             до 34        163990.638418\n",
       "гражданский брак      до 34        163412.720392\n",
       "не женат / не замужем до 34        162758.728583\n",
       "вдовец / вдова        от 34 до 43  160506.500000\n",
       "в разводе             свыше 54     159885.210210\n",
       "не женат / не замужем свыше 54     151958.283019\n",
       "женат / замужем       свыше 54     150159.215706\n",
       "вдовец / вдова        от 43 до 54  147723.269608\n",
       "гражданский брак      свыше 54     145877.464983\n",
       "вдовец / вдова        свыше 54     138865.525074"
      ]
     },
     "execution_count": 59,
     "metadata": {},
     "output_type": "execute_result"
    }
   ],
   "source": [
    "data_pivot = df_with_family_status.pivot_table(index=['family_status', 'age_frame'], values='monthly_income', aggfunc=['mean'])\n",
    "data_pivot = data_pivot.sort_values(by=('mean', 'monthly_income'), ascending=False)\n",
    "data_pivot"
   ]
  },
  {
   "cell_type": "markdown",
   "id": "3776a95f-2033-4743-921b-2dcf64bc112f",
   "metadata": {},
   "source": [
    "Данные показывают, что невозможно однозначно утверждать, что низкая подверженность к риску возникновения задолженности клиентов с семейными статусами **вдовец / вдова** и **в разводе** обусловлено высоким уровнем их дохода. Для точного ответа необходимы данные с суммой полученного кредита клиентами и сроками, под которые были взяты кредиты, но, к сожалению, такая информация отсутствует. "
   ]
  },
  {
   "cell_type": "markdown",
   "id": "f58067c6-c039-4fe6-992b-c433713eecbf",
   "metadata": {},
   "source": [
    "### Вывод 2:\n",
    "\n",
    "Клиенты с семейными статусами **вдовец / вдова** и **в разводе** менее всего подвержены риску возникновения задолженности. \n",
    "Больше всех к риску возникновения задолженности подвержены клиенты с семейными статусами **не женат / не замужем** и **гражданский брак**. Возможно, это обусловлено более осознанным подходом к кредиту.\n",
    "\n",
    "Влияние дохода на погашение кредита является отдельной гипотезой, которую мы также проверим ниже.\n",
    "\n",
    "[В начало](#intro)."
   ]
  },
  {
   "cell_type": "markdown",
   "id": "393ce0bc-1434-4664-b70e-1a3ef14183c7",
   "metadata": {},
   "source": [
    "### Вопрос 3: Есть ли зависимость между уровнем дохода и возвратом кредита в срок?"
   ]
  },
  {
   "cell_type": "code",
   "execution_count": 60,
   "id": "ae9f2441-ddfc-4f25-96a5-1a3d277ff115",
   "metadata": {},
   "outputs": [
    {
     "data": {
      "text/html": [
       "<div>\n",
       "<style scoped>\n",
       "    .dataframe tbody tr th:only-of-type {\n",
       "        vertical-align: middle;\n",
       "    }\n",
       "\n",
       "    .dataframe tbody tr th {\n",
       "        vertical-align: top;\n",
       "    }\n",
       "\n",
       "    .dataframe thead tr th {\n",
       "        text-align: left;\n",
       "    }\n",
       "\n",
       "    .dataframe thead tr:last-of-type th {\n",
       "        text-align: right;\n",
       "    }\n",
       "</style>\n",
       "<table border=\"1\" class=\"dataframe\">\n",
       "  <thead>\n",
       "    <tr>\n",
       "      <th></th>\n",
       "      <th>sum</th>\n",
       "      <th>count</th>\n",
       "      <th>make_proportion</th>\n",
       "    </tr>\n",
       "    <tr>\n",
       "      <th></th>\n",
       "      <th>debt</th>\n",
       "      <th>debt</th>\n",
       "      <th>debt</th>\n",
       "    </tr>\n",
       "    <tr>\n",
       "      <th>monthly_income_category</th>\n",
       "      <th></th>\n",
       "      <th></th>\n",
       "      <th></th>\n",
       "    </tr>\n",
       "  </thead>\n",
       "  <tbody>\n",
       "    <tr>\n",
       "      <th>D</th>\n",
       "      <td>21</td>\n",
       "      <td>350</td>\n",
       "      <td>6.0%</td>\n",
       "    </tr>\n",
       "    <tr>\n",
       "      <th>B</th>\n",
       "      <td>356</td>\n",
       "      <td>5042</td>\n",
       "      <td>7.06%</td>\n",
       "    </tr>\n",
       "    <tr>\n",
       "      <th>A</th>\n",
       "      <td>2</td>\n",
       "      <td>25</td>\n",
       "      <td>8.0%</td>\n",
       "    </tr>\n",
       "    <tr>\n",
       "      <th>C</th>\n",
       "      <td>1360</td>\n",
       "      <td>16015</td>\n",
       "      <td>8.49%</td>\n",
       "    </tr>\n",
       "    <tr>\n",
       "      <th>E</th>\n",
       "      <td>2</td>\n",
       "      <td>22</td>\n",
       "      <td>9.09%</td>\n",
       "    </tr>\n",
       "  </tbody>\n",
       "</table>\n",
       "</div>"
      ],
      "text/plain": [
       "                          sum  count make_proportion\n",
       "                         debt   debt            debt\n",
       "monthly_income_category                             \n",
       "D                          21    350            6.0%\n",
       "B                         356   5042           7.06%\n",
       "A                           2     25            8.0%\n",
       "C                        1360  16015           8.49%\n",
       "E                           2     22           9.09%"
      ]
     },
     "execution_count": 60,
     "metadata": {},
     "output_type": "execute_result"
    }
   ],
   "source": [
    "data_pivot = df.pivot_table(index=['monthly_income_category'], values='debt', aggfunc=['sum', 'count', make_proportion])\n",
    "data_pivot = data_pivot.sort_values(by=('make_proportion', 'debt'))\n",
    "data_pivot"
   ]
  },
  {
   "cell_type": "markdown",
   "id": "817b782b-5151-4a7e-a39e-fb2bed221a80",
   "metadata": {},
   "source": [
    "### Вывод 3:\n",
    "\n",
    "Данные показывают неоднозначный результат. Самые обеспеченные и менее всего обеспеченные клиенты практически в одинаковой степени неохотно берут кредит. Кредит очень охотно берет условный средний класс с уровнем дохода от 50 000 до 200 000, уровень риска по среднему классу находится чуть выше среднего. Самый больший риск характерен для менее всего обеспеченных клиентов банка, а вот меньше всего риск характерен не для самых обеспеченных клиентов банка. Менее всего подвержены риску кредиты, выданные клиентам с уровнем ежемесячного дохода до 50 000 и до 1 000 000.\n",
    "\n",
    "[В начало](#intro)."
   ]
  },
  {
   "cell_type": "markdown",
   "id": "fd8e3168-2f42-4737-a7be-060d2c9508d8",
   "metadata": {},
   "source": [
    "### Вопрос 4: Как разные цели кредита влияют на его возврат в срок? "
   ]
  },
  {
   "cell_type": "code",
   "execution_count": 61,
   "id": "3878e6fa-70b7-4b95-ae7d-7a4b6975aa59",
   "metadata": {},
   "outputs": [
    {
     "data": {
      "text/html": [
       "<div>\n",
       "<style scoped>\n",
       "    .dataframe tbody tr th:only-of-type {\n",
       "        vertical-align: middle;\n",
       "    }\n",
       "\n",
       "    .dataframe tbody tr th {\n",
       "        vertical-align: top;\n",
       "    }\n",
       "\n",
       "    .dataframe thead tr th {\n",
       "        text-align: left;\n",
       "    }\n",
       "\n",
       "    .dataframe thead tr:last-of-type th {\n",
       "        text-align: right;\n",
       "    }\n",
       "</style>\n",
       "<table border=\"1\" class=\"dataframe\">\n",
       "  <thead>\n",
       "    <tr>\n",
       "      <th></th>\n",
       "      <th>sum</th>\n",
       "      <th>count</th>\n",
       "      <th>make_proportion</th>\n",
       "    </tr>\n",
       "    <tr>\n",
       "      <th></th>\n",
       "      <th>debt</th>\n",
       "      <th>debt</th>\n",
       "      <th>debt</th>\n",
       "    </tr>\n",
       "    <tr>\n",
       "      <th>purpose_category</th>\n",
       "      <th></th>\n",
       "      <th></th>\n",
       "      <th></th>\n",
       "    </tr>\n",
       "  </thead>\n",
       "  <tbody>\n",
       "    <tr>\n",
       "      <th>операции с недвижимостью</th>\n",
       "      <td>782</td>\n",
       "      <td>10811</td>\n",
       "      <td>7.23%</td>\n",
       "    </tr>\n",
       "    <tr>\n",
       "      <th>проведение свадьбы</th>\n",
       "      <td>186</td>\n",
       "      <td>2324</td>\n",
       "      <td>8.0%</td>\n",
       "    </tr>\n",
       "    <tr>\n",
       "      <th>получение образования</th>\n",
       "      <td>370</td>\n",
       "      <td>4013</td>\n",
       "      <td>9.22%</td>\n",
       "    </tr>\n",
       "    <tr>\n",
       "      <th>операции с автомобилем</th>\n",
       "      <td>403</td>\n",
       "      <td>4306</td>\n",
       "      <td>9.36%</td>\n",
       "    </tr>\n",
       "  </tbody>\n",
       "</table>\n",
       "</div>"
      ],
      "text/plain": [
       "                          sum  count make_proportion\n",
       "                         debt   debt            debt\n",
       "purpose_category                                    \n",
       "операции с недвижимостью  782  10811           7.23%\n",
       "проведение свадьбы        186   2324            8.0%\n",
       "получение образования     370   4013           9.22%\n",
       "операции с автомобилем    403   4306           9.36%"
      ]
     },
     "execution_count": 61,
     "metadata": {},
     "output_type": "execute_result"
    }
   ],
   "source": [
    "data_pivot = df.pivot_table(index=['purpose_category'], values='debt', aggfunc=['sum', 'count', make_proportion])\n",
    "data_pivot = data_pivot.sort_values(by=('make_proportion', 'debt'))\n",
    "data_pivot"
   ]
  },
  {
   "cell_type": "markdown",
   "id": "709d9780-7fdb-4210-a551-c87b440d50d1",
   "metadata": {},
   "source": [
    "### Вывод 4:\n",
    "\n",
    "Данные показывают, что наименее рискованными являются кредиты, выданные на операции с недвижимостью и проведение свадьбы, в то время как наиболее рискованными выступают кредиты, выданные для получения образования и на операции с автомобилем. \n",
    "\n",
    "[В начало](#intro)."
   ]
  },
  {
   "cell_type": "markdown",
   "id": "8f07c736",
   "metadata": {
    "tags": []
   },
   "source": [
    "## Общий вывод:\n",
    "\n",
    "\n",
    "Исследование показало портрет потенциального идеального клиента: человек состоящий/состоявший в официальных отношениях, без детей, с доходом выше среднего, цель получения кредита у которого недвижимость.\n",
    "\n",
    "Отвечая на первый вопрос, одназначно можно утвреждать, что наличие детей у клиентов повышает риск возникновения задолженности, чем меньше детей, тем ниже риск просрочки по кредиту.\n",
    "\n",
    "|Количество детей|Уровень риска | \n",
    "|:---------------|:------------:|          \n",
    "|нет детей       |7.54%         | \n",
    "|много детей     |8.16%         | \n",
    "|1 ребенок       |9.17%         | \n",
    "|2 ребенка       |9.49%         |\n",
    "\n",
    "---------------------------------\n",
    "\n",
    "По второму вопросу иследование показало, что меньше всего риск просрочки по кредиту характерен для клиентов, состоящих/состоявшие в официальных отношениях, в то время как клиенты с гражданским браком и не состоящие в официальных отношениях больше всего подвержены риску возникновения задолженности по кредиту.\n",
    "\n",
    "\n",
    "|Семейный статус       |Уровень риска | \n",
    "|:---------------------|:------------:|          \n",
    "|вдовец / вдова        |6.57%         | \n",
    "|в разводе             |7.11%         | \n",
    "|женат / замужем       |7.55%         | \n",
    "|гражданский брак      |9.35%         | \n",
    "|не женат / не замужем |9.75%         |\n",
    "\n",
    "---------------------------------------\n",
    "\n",
    "Наибольший риск возникновения задолженности характерен для среднего класса, представителей среднего класса насчитывается большинство, в то время как самые обеспеченные и менее всего обеспеченные клиенты практически в одинаковой степени неохотно берут кредит, что же касается риска возникновения задолженности по низшему и высшему классу, то он достаточно высокий в обоих случаях. Иначе говоря, зависимость между уровнем дохода и погашением кредита в срок однозначно существует.\n",
    "\n",
    "|Категория дохода|Уровень риска | \n",
    "|:---------------|:------------:|          \n",
    "|D               |7.54%         | \n",
    "|B               |8.16%         | \n",
    "|A               |9.17%         | \n",
    "|C               |9.49%         | \n",
    "|E               |9.49%         | \n",
    "\n",
    "---------------------------------\n",
    "\n",
    "Исследование показало, что разные цели кредита влияет на уровень риска возникновения задолженности, согласно данным исследования наименнее рискованным явлются с операции с недвижимостью, а наиболее рискованным операции с движемым имуществом.\n",
    "\n",
    "\n",
    "|Категория дохода         |Уровень риска | \n",
    "|:------------------------|:------------:|          \n",
    "|операции с недвижимостью |7.23%         | \n",
    "|проведение свадьбы       |8.0%          | \n",
    "|получение образования    |9.22%         | \n",
    "|операции с автомобилем   |9.36%         | \n"
   ]
  },
  {
   "cell_type": "markdown",
   "id": "d457cefd",
   "metadata": {},
   "source": [
    "[В начало](#intro)."
   ]
  },
  {
   "cell_type": "markdown",
   "id": "5a02ab2f-673d-4f6b-9351-52e4491c7b21",
   "metadata": {},
   "source": [
    "## Рекомендации по повышению качества данных\n",
    "\n",
    "В ходе анализа информации в датафрейме было выявлено достаточно много аномалий, что влияют на качество данных, а значит на точность исследования. В связи с этим по каждой выявленной аномалии предложим меры их по устренению:\n",
    "\n",
    "- Для того чтобы в столбце с возрастом клиентов банка не встречались нулевые или отрицательные значения предлагается установить регулярные выражения на поле ввода возраста в случае, если заявка заполнется клиентом онлайн на сайте банка без помощи специлистов и если информация с заявки без предварительной обработки попадает в базу данных банка. Каким может быть регулярное вражение: ограничение на ввод нулевых или отрицательных значений, при вводе подобных значений клиент получит сообщение \"возраст не может быть нулевым или отрицательным, пожалуйста введите свой возраст корректно\". Тоже самое касается работы специалистов банка. Однако, если причиной появления нулей является не человеческий фактор, то следует выяснить причину появления подобного рода недостоверных данных при помощи команды разработчиков.\n",
    "\n",
    "- Частота отрицательных значений в столбце с информацией о стажах работы клиентов, а также наличие сильно завышенных данных, снижают вероятность человеческого фактора как первопричины появления таких данных, следует обратиться к команде разработки.\n",
    "\n",
    "- Низкая частота отрицательных и завышенных значений для столбца количеством детей у клиентов банка повышает вероятность человеческого фактора как первопричины появления таких амномалий в данных, по аналогии со столбцом с возрастом клиентов установить регулярные выражения на поле ввода количества детей.\n",
    "\n",
    "- Для столбца с информацией об уровнях образования, а также для столбца с целями получения кредита и для любых категориальных данных установить выпадающие списки из строго ограниченного выбора значений, таким образом качество и точность данных в этих столбцах в разы увеличатся.\n",
    "\n",
    "[В начало](#intro)."
   ]
  }
 ],
 "metadata": {
  "kernelspec": {
   "display_name": "Python 3 (ipykernel)",
   "language": "python",
   "name": "python3"
  },
  "language_info": {
   "codemirror_mode": {
    "name": "ipython",
    "version": 3
   },
   "file_extension": ".py",
   "mimetype": "text/x-python",
   "name": "python",
   "nbconvert_exporter": "python",
   "pygments_lexer": "ipython3",
   "version": "3.11.5"
  },
  "toc": {
   "base_numbering": 1,
   "nav_menu": {},
   "number_sections": true,
   "sideBar": true,
   "skip_h1_title": true,
   "title_cell": "Cодержание",
   "title_sidebar": "Contents",
   "toc_cell": true,
   "toc_position": {
    "height": "calc(100% - 180px)",
    "left": "10px",
    "top": "150px",
    "width": "234px"
   },
   "toc_section_display": true,
   "toc_window_display": true
  }
 },
 "nbformat": 4,
 "nbformat_minor": 5
}
